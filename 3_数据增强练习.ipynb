{
 "cells": [
  {
   "cell_type": "code",
   "execution_count": 1,
   "id": "d4e44f63",
   "metadata": {},
   "outputs": [],
   "source": [
    "import os\n",
    " \n",
    "os.environ['KMP_DUPLICATE_LIB_OK']='True'"
   ]
  },
  {
   "cell_type": "markdown",
   "id": "c3268eff",
   "metadata": {},
   "source": [
    "## 包的导入"
   ]
  },
  {
   "cell_type": "code",
   "execution_count": 2,
   "id": "22316046",
   "metadata": {
    "scrolled": false
   },
   "outputs": [],
   "source": [
    "import pandas as pd\n",
    "import numpy as np\n",
    "import cv2\n",
    "from easydict import EasyDict\n",
    "import yaml\n",
    "import pdb\n",
    "\n",
    "import torch\n",
    "import torch.nn as nn\n",
    "from torch.optim import Adam, SGD, AdamW\n",
    "from torch.utils.data import Dataset, DataLoader, Subset # Subset可以从大训练集中抽样出小的验证集\n",
    "from torch.nn import CrossEntropyLoss, NLLLoss #损失函数定义\n",
    "# CrossEntropyLoss 自动添加softmax\n",
    "\n",
    "import albumentations as A\n",
    "from albumentations.pytorch import ToTensorV2 #转化为pytorch格式\n",
    "\n",
    "import timm\n",
    "\n",
    "import matplotlib.pyplot as plt\n",
    "%matplotlib inline"
   ]
  },
  {
   "cell_type": "markdown",
   "id": "1123c108",
   "metadata": {},
   "source": [
    "## 包的下载"
   ]
  },
  {
   "cell_type": "code",
   "execution_count": 3,
   "id": "6c3452ad",
   "metadata": {},
   "outputs": [],
   "source": [
    "#包的导入\n",
    "#pip install opencv-python\n",
    "#python.exe -m pip install --upgrade pip\n",
    "#pip install easydict\n",
    "# pip install --user albumentations\n",
    "#pip install timm"
   ]
  },
  {
   "cell_type": "markdown",
   "id": "9786c015",
   "metadata": {},
   "source": [
    "## 数据集导入与加载"
   ]
  },
  {
   "cell_type": "code",
   "execution_count": 4,
   "id": "bb866a1f",
   "metadata": {},
   "outputs": [],
   "source": [
    "# 当前文件目录\n",
    "# print(os.path.abspath('.'))"
   ]
  },
  {
   "cell_type": "code",
   "execution_count": 5,
   "id": "c3608715",
   "metadata": {},
   "outputs": [],
   "source": [
    "train=pd.read_csv(\"./digit-recognizer/train.csv\")\n",
    "test = pd.read_csv(\"./digit-recognizer/test.csv\")\n",
    "submission =  pd.read_csv(\"./digit-recognizer/sample_submission.csv\")"
   ]
  },
  {
   "cell_type": "markdown",
   "id": "eaaa3332",
   "metadata": {},
   "source": [
    "### 数据集预览"
   ]
  },
  {
   "cell_type": "code",
   "execution_count": 6,
   "id": "9256b8fa",
   "metadata": {},
   "outputs": [
    {
     "data": {
      "text/html": [
       "<div>\n",
       "<style scoped>\n",
       "    .dataframe tbody tr th:only-of-type {\n",
       "        vertical-align: middle;\n",
       "    }\n",
       "\n",
       "    .dataframe tbody tr th {\n",
       "        vertical-align: top;\n",
       "    }\n",
       "\n",
       "    .dataframe thead th {\n",
       "        text-align: right;\n",
       "    }\n",
       "</style>\n",
       "<table border=\"1\" class=\"dataframe\">\n",
       "  <thead>\n",
       "    <tr style=\"text-align: right;\">\n",
       "      <th></th>\n",
       "      <th>label</th>\n",
       "      <th>pixel0</th>\n",
       "      <th>pixel1</th>\n",
       "      <th>pixel2</th>\n",
       "      <th>pixel3</th>\n",
       "      <th>pixel4</th>\n",
       "      <th>pixel5</th>\n",
       "      <th>pixel6</th>\n",
       "      <th>pixel7</th>\n",
       "      <th>pixel8</th>\n",
       "      <th>...</th>\n",
       "      <th>pixel774</th>\n",
       "      <th>pixel775</th>\n",
       "      <th>pixel776</th>\n",
       "      <th>pixel777</th>\n",
       "      <th>pixel778</th>\n",
       "      <th>pixel779</th>\n",
       "      <th>pixel780</th>\n",
       "      <th>pixel781</th>\n",
       "      <th>pixel782</th>\n",
       "      <th>pixel783</th>\n",
       "    </tr>\n",
       "  </thead>\n",
       "  <tbody>\n",
       "    <tr>\n",
       "      <th>0</th>\n",
       "      <td>1</td>\n",
       "      <td>0</td>\n",
       "      <td>0</td>\n",
       "      <td>0</td>\n",
       "      <td>0</td>\n",
       "      <td>0</td>\n",
       "      <td>0</td>\n",
       "      <td>0</td>\n",
       "      <td>0</td>\n",
       "      <td>0</td>\n",
       "      <td>...</td>\n",
       "      <td>0</td>\n",
       "      <td>0</td>\n",
       "      <td>0</td>\n",
       "      <td>0</td>\n",
       "      <td>0</td>\n",
       "      <td>0</td>\n",
       "      <td>0</td>\n",
       "      <td>0</td>\n",
       "      <td>0</td>\n",
       "      <td>0</td>\n",
       "    </tr>\n",
       "    <tr>\n",
       "      <th>1</th>\n",
       "      <td>0</td>\n",
       "      <td>0</td>\n",
       "      <td>0</td>\n",
       "      <td>0</td>\n",
       "      <td>0</td>\n",
       "      <td>0</td>\n",
       "      <td>0</td>\n",
       "      <td>0</td>\n",
       "      <td>0</td>\n",
       "      <td>0</td>\n",
       "      <td>...</td>\n",
       "      <td>0</td>\n",
       "      <td>0</td>\n",
       "      <td>0</td>\n",
       "      <td>0</td>\n",
       "      <td>0</td>\n",
       "      <td>0</td>\n",
       "      <td>0</td>\n",
       "      <td>0</td>\n",
       "      <td>0</td>\n",
       "      <td>0</td>\n",
       "    </tr>\n",
       "  </tbody>\n",
       "</table>\n",
       "<p>2 rows × 785 columns</p>\n",
       "</div>"
      ],
      "text/plain": [
       "   label  pixel0  pixel1  pixel2  pixel3  pixel4  pixel5  pixel6  pixel7  \\\n",
       "0      1       0       0       0       0       0       0       0       0   \n",
       "1      0       0       0       0       0       0       0       0       0   \n",
       "\n",
       "   pixel8  ...  pixel774  pixel775  pixel776  pixel777  pixel778  pixel779  \\\n",
       "0       0  ...         0         0         0         0         0         0   \n",
       "1       0  ...         0         0         0         0         0         0   \n",
       "\n",
       "   pixel780  pixel781  pixel782  pixel783  \n",
       "0         0         0         0         0  \n",
       "1         0         0         0         0  \n",
       "\n",
       "[2 rows x 785 columns]"
      ]
     },
     "execution_count": 6,
     "metadata": {},
     "output_type": "execute_result"
    }
   ],
   "source": [
    "# 训练集数据预览\n",
    "train.head(2) "
   ]
  },
  {
   "cell_type": "code",
   "execution_count": 7,
   "id": "f22cb0b1",
   "metadata": {},
   "outputs": [
    {
     "data": {
      "text/plain": [
       "<matplotlib.image.AxesImage at 0x1f46b339d00>"
      ]
     },
     "execution_count": 7,
     "metadata": {},
     "output_type": "execute_result"
    },
    {
     "data": {
      "image/png": "[encoded data removed]",
      "text/plain": [
       "<Figure size 432x288 with 1 Axes>"
      ]
     },
     "metadata": {
      "needs_background": "light"
     },
     "output_type": "display_data"
    }
   ],
   "source": [
    "# 训练集第一个数据图像预览\n",
    "    # iloc [行，列]\n",
    "plt.imshow(train.iloc[0,1:].values.reshape(28,28)) "
   ]
  },
  {
   "cell_type": "code",
   "execution_count": 8,
   "id": "39a3a9c5",
   "metadata": {},
   "outputs": [
    {
     "data": {
      "text/html": [
       "<div>\n",
       "<style scoped>\n",
       "    .dataframe tbody tr th:only-of-type {\n",
       "        vertical-align: middle;\n",
       "    }\n",
       "\n",
       "    .dataframe tbody tr th {\n",
       "        vertical-align: top;\n",
       "    }\n",
       "\n",
       "    .dataframe thead th {\n",
       "        text-align: right;\n",
       "    }\n",
       "</style>\n",
       "<table border=\"1\" class=\"dataframe\">\n",
       "  <thead>\n",
       "    <tr style=\"text-align: right;\">\n",
       "      <th></th>\n",
       "      <th>pixel0</th>\n",
       "      <th>pixel1</th>\n",
       "      <th>pixel2</th>\n",
       "      <th>pixel3</th>\n",
       "      <th>pixel4</th>\n",
       "      <th>pixel5</th>\n",
       "      <th>pixel6</th>\n",
       "      <th>pixel7</th>\n",
       "      <th>pixel8</th>\n",
       "      <th>pixel9</th>\n",
       "      <th>...</th>\n",
       "      <th>pixel774</th>\n",
       "      <th>pixel775</th>\n",
       "      <th>pixel776</th>\n",
       "      <th>pixel777</th>\n",
       "      <th>pixel778</th>\n",
       "      <th>pixel779</th>\n",
       "      <th>pixel780</th>\n",
       "      <th>pixel781</th>\n",
       "      <th>pixel782</th>\n",
       "      <th>pixel783</th>\n",
       "    </tr>\n",
       "  </thead>\n",
       "  <tbody>\n",
       "    <tr>\n",
       "      <th>0</th>\n",
       "      <td>0</td>\n",
       "      <td>0</td>\n",
       "      <td>0</td>\n",
       "      <td>0</td>\n",
       "      <td>0</td>\n",
       "      <td>0</td>\n",
       "      <td>0</td>\n",
       "      <td>0</td>\n",
       "      <td>0</td>\n",
       "      <td>0</td>\n",
       "      <td>...</td>\n",
       "      <td>0</td>\n",
       "      <td>0</td>\n",
       "      <td>0</td>\n",
       "      <td>0</td>\n",
       "      <td>0</td>\n",
       "      <td>0</td>\n",
       "      <td>0</td>\n",
       "      <td>0</td>\n",
       "      <td>0</td>\n",
       "      <td>0</td>\n",
       "    </tr>\n",
       "    <tr>\n",
       "      <th>1</th>\n",
       "      <td>0</td>\n",
       "      <td>0</td>\n",
       "      <td>0</td>\n",
       "      <td>0</td>\n",
       "      <td>0</td>\n",
       "      <td>0</td>\n",
       "      <td>0</td>\n",
       "      <td>0</td>\n",
       "      <td>0</td>\n",
       "      <td>0</td>\n",
       "      <td>...</td>\n",
       "      <td>0</td>\n",
       "      <td>0</td>\n",
       "      <td>0</td>\n",
       "      <td>0</td>\n",
       "      <td>0</td>\n",
       "      <td>0</td>\n",
       "      <td>0</td>\n",
       "      <td>0</td>\n",
       "      <td>0</td>\n",
       "      <td>0</td>\n",
       "    </tr>\n",
       "    <tr>\n",
       "      <th>2</th>\n",
       "      <td>0</td>\n",
       "      <td>0</td>\n",
       "      <td>0</td>\n",
       "      <td>0</td>\n",
       "      <td>0</td>\n",
       "      <td>0</td>\n",
       "      <td>0</td>\n",
       "      <td>0</td>\n",
       "      <td>0</td>\n",
       "      <td>0</td>\n",
       "      <td>...</td>\n",
       "      <td>0</td>\n",
       "      <td>0</td>\n",
       "      <td>0</td>\n",
       "      <td>0</td>\n",
       "      <td>0</td>\n",
       "      <td>0</td>\n",
       "      <td>0</td>\n",
       "      <td>0</td>\n",
       "      <td>0</td>\n",
       "      <td>0</td>\n",
       "    </tr>\n",
       "    <tr>\n",
       "      <th>3</th>\n",
       "      <td>0</td>\n",
       "      <td>0</td>\n",
       "      <td>0</td>\n",
       "      <td>0</td>\n",
       "      <td>0</td>\n",
       "      <td>0</td>\n",
       "      <td>0</td>\n",
       "      <td>0</td>\n",
       "      <td>0</td>\n",
       "      <td>0</td>\n",
       "      <td>...</td>\n",
       "      <td>0</td>\n",
       "      <td>0</td>\n",
       "      <td>0</td>\n",
       "      <td>0</td>\n",
       "      <td>0</td>\n",
       "      <td>0</td>\n",
       "      <td>0</td>\n",
       "      <td>0</td>\n",
       "      <td>0</td>\n",
       "      <td>0</td>\n",
       "    </tr>\n",
       "    <tr>\n",
       "      <th>4</th>\n",
       "      <td>0</td>\n",
       "      <td>0</td>\n",
       "      <td>0</td>\n",
       "      <td>0</td>\n",
       "      <td>0</td>\n",
       "      <td>0</td>\n",
       "      <td>0</td>\n",
       "      <td>0</td>\n",
       "      <td>0</td>\n",
       "      <td>0</td>\n",
       "      <td>...</td>\n",
       "      <td>0</td>\n",
       "      <td>0</td>\n",
       "      <td>0</td>\n",
       "      <td>0</td>\n",
       "      <td>0</td>\n",
       "      <td>0</td>\n",
       "      <td>0</td>\n",
       "      <td>0</td>\n",
       "      <td>0</td>\n",
       "      <td>0</td>\n",
       "    </tr>\n",
       "  </tbody>\n",
       "</table>\n",
       "<p>5 rows × 784 columns</p>\n",
       "</div>"
      ],
      "text/plain": [
       "   pixel0  pixel1  pixel2  pixel3  pixel4  pixel5  pixel6  pixel7  pixel8  \\\n",
       "0       0       0       0       0       0       0       0       0       0   \n",
       "1       0       0       0       0       0       0       0       0       0   \n",
       "2       0       0       0       0       0       0       0       0       0   \n",
       "3       0       0       0       0       0       0       0       0       0   \n",
       "4       0       0       0       0       0       0       0       0       0   \n",
       "\n",
       "   pixel9  ...  pixel774  pixel775  pixel776  pixel777  pixel778  pixel779  \\\n",
       "0       0  ...         0         0         0         0         0         0   \n",
       "1       0  ...         0         0         0         0         0         0   \n",
       "2       0  ...         0         0         0         0         0         0   \n",
       "3       0  ...         0         0         0         0         0         0   \n",
       "4       0  ...         0         0         0         0         0         0   \n",
       "\n",
       "   pixel780  pixel781  pixel782  pixel783  \n",
       "0         0         0         0         0  \n",
       "1         0         0         0         0  \n",
       "2         0         0         0         0  \n",
       "3         0         0         0         0  \n",
       "4         0         0         0         0  \n",
       "\n",
       "[5 rows x 784 columns]"
      ]
     },
     "execution_count": 8,
     "metadata": {},
     "output_type": "execute_result"
    }
   ],
   "source": [
    "test.head(5)"
   ]
  },
  {
   "cell_type": "code",
   "execution_count": 9,
   "id": "453da24f",
   "metadata": {
    "scrolled": true
   },
   "outputs": [
    {
     "data": {
      "text/html": [
       "<div>\n",
       "<style scoped>\n",
       "    .dataframe tbody tr th:only-of-type {\n",
       "        vertical-align: middle;\n",
       "    }\n",
       "\n",
       "    .dataframe tbody tr th {\n",
       "        vertical-align: top;\n",
       "    }\n",
       "\n",
       "    .dataframe thead th {\n",
       "        text-align: right;\n",
       "    }\n",
       "</style>\n",
       "<table border=\"1\" class=\"dataframe\">\n",
       "  <thead>\n",
       "    <tr style=\"text-align: right;\">\n",
       "      <th></th>\n",
       "      <th>ImageId</th>\n",
       "      <th>Label</th>\n",
       "    </tr>\n",
       "  </thead>\n",
       "  <tbody>\n",
       "    <tr>\n",
       "      <th>0</th>\n",
       "      <td>1</td>\n",
       "      <td>0</td>\n",
       "    </tr>\n",
       "    <tr>\n",
       "      <th>1</th>\n",
       "      <td>2</td>\n",
       "      <td>0</td>\n",
       "    </tr>\n",
       "    <tr>\n",
       "      <th>2</th>\n",
       "      <td>3</td>\n",
       "      <td>0</td>\n",
       "    </tr>\n",
       "    <tr>\n",
       "      <th>3</th>\n",
       "      <td>4</td>\n",
       "      <td>0</td>\n",
       "    </tr>\n",
       "    <tr>\n",
       "      <th>4</th>\n",
       "      <td>5</td>\n",
       "      <td>0</td>\n",
       "    </tr>\n",
       "  </tbody>\n",
       "</table>\n",
       "</div>"
      ],
      "text/plain": [
       "   ImageId  Label\n",
       "0        1      0\n",
       "1        2      0\n",
       "2        3      0\n",
       "3        4      0\n",
       "4        5      0"
      ]
     },
     "execution_count": 9,
     "metadata": {},
     "output_type": "execute_result"
    }
   ],
   "source": [
    "submission.head()"
   ]
  },
  {
   "cell_type": "code",
   "execution_count": 10,
   "id": "fee01e02",
   "metadata": {},
   "outputs": [],
   "source": [
    "# 数据集划分成image 与label\n",
    "train_images = train.iloc[:,1:].values.reshape(-1,28,28)\n",
    "train_labels = train.iloc[:,0].values\n",
    "\n",
    "test_images = test.iloc[:,0:].values.reshape(-1,28,28)"
   ]
  },
  {
   "cell_type": "code",
   "execution_count": 11,
   "id": "26157395",
   "metadata": {},
   "outputs": [
    {
     "data": {
      "text/plain": [
       "(42000, 28, 28)"
      ]
     },
     "execution_count": 11,
     "metadata": {},
     "output_type": "execute_result"
    }
   ],
   "source": [
    "train_images.shape"
   ]
  },
  {
   "cell_type": "code",
   "execution_count": 12,
   "id": "7805f07e",
   "metadata": {},
   "outputs": [
    {
     "data": {
      "text/plain": [
       "(28000, 28, 28)"
      ]
     },
     "execution_count": 12,
     "metadata": {},
     "output_type": "execute_result"
    }
   ],
   "source": [
    "test_images.shape"
   ]
  },
  {
   "cell_type": "code",
   "execution_count": 13,
   "id": "53275a2a",
   "metadata": {},
   "outputs": [
    {
     "data": {
      "text/plain": [
       "(42000,)"
      ]
     },
     "execution_count": 13,
     "metadata": {},
     "output_type": "execute_result"
    }
   ],
   "source": [
    "train_labels.shape"
   ]
  },
  {
   "cell_type": "code",
   "execution_count": 14,
   "id": "627e3f93",
   "metadata": {},
   "outputs": [
    {
     "data": {
      "text/plain": [
       "{0, 1, 2, 3, 4, 5, 6, 7, 8, 9}"
      ]
     },
     "execution_count": 14,
     "metadata": {},
     "output_type": "execute_result"
    }
   ],
   "source": [
    "# 查看训练集的标签\n",
    "set(train_labels)  # set() 不包含重复元素遍历"
   ]
  },
  {
   "cell_type": "code",
   "execution_count": 15,
   "id": "5dbd59b7",
   "metadata": {},
   "outputs": [
    {
     "data": {
      "text/plain": [
       "0.13101533792088266"
      ]
     },
     "execution_count": 15,
     "metadata": {},
     "output_type": "execute_result"
    }
   ],
   "source": [
    "train_images.mean()/255"
   ]
  },
  {
   "cell_type": "code",
   "execution_count": 16,
   "id": "911aded8",
   "metadata": {},
   "outputs": [
    {
     "data": {
      "text/plain": [
       "0.3085401559245608"
      ]
     },
     "execution_count": 16,
     "metadata": {},
     "output_type": "execute_result"
    }
   ],
   "source": [
    "train_images.std()/255  # 标准差"
   ]
  },
  {
   "cell_type": "code",
   "execution_count": 17,
   "id": "c9d9e8c2",
   "metadata": {},
   "outputs": [
    {
     "data": {
      "text/plain": [
       "255"
      ]
     },
     "execution_count": 17,
     "metadata": {},
     "output_type": "execute_result"
    }
   ],
   "source": [
    "train_images.max()"
   ]
  },
  {
   "cell_type": "markdown",
   "id": "36d2bd81",
   "metadata": {},
   "source": [
    "## Image Augmentation\n",
    "\n",
    "1. 图片增强\n",
    "2. 图片尺寸\n",
    "3. 标准化\n",
    "4. 匹配到模型的input format;"
   ]
  },
  {
   "cell_type": "code",
   "execution_count": 18,
   "id": "19b8ee8b",
   "metadata": {},
   "outputs": [],
   "source": [
    "# 图片增强\n",
    "def get_transform(image_size,train=True):\n",
    "    if train:\n",
    "        return A.Compose([\n",
    "#             A.RandomCrop(width=22,height=22), # 随机裁剪\n",
    "            A.HorizontalFlip(p=0.5), # 水平翻转\n",
    "            A.VerticalFlip(p=0.5), # 垂直翻转\n",
    "            A.RandomBrightnessContrast(p=0.2), \n",
    "            A.Resize(*image_size,interpolation=cv2.INTER_LANCZOS4),# 数据变换尺寸\n",
    "            A.Normalize(0.1310,0.30854), #数据标准化\n",
    "            ToTensorV2(),# 将数据变成pytorch可用格式---增加通道\n",
    "        ])\n",
    "    else:\n",
    "         return A.Compose([\n",
    "            A.Resize(*image_size,interpolation=cv2.INTER_LANCZOS4),# 数据变换尺寸\n",
    "            A.Normalize(0.1310,0.30854), #数据标准化\n",
    "            ToTensorV2(), # 将数据变成pytorch可用格式---增加通道\n",
    "        ])\n",
    "            "
   ]
  },
  {
   "cell_type": "markdown",
   "id": "5b215d0f",
   "metadata": {},
   "source": [
    "### 测试一个样本"
   ]
  },
  {
   "cell_type": "code",
   "execution_count": 19,
   "id": "aadd3759",
   "metadata": {},
   "outputs": [],
   "source": [
    "# train_transform = get_transform([28,28],True)"
   ]
  },
  {
   "cell_type": "code",
   "execution_count": 20,
   "id": "5fd01a47",
   "metadata": {},
   "outputs": [],
   "source": [
    "# output = train_transform(image=train_images[0])"
   ]
  },
  {
   "cell_type": "code",
   "execution_count": 21,
   "id": "292e4fda",
   "metadata": {},
   "outputs": [],
   "source": [
    "# output['image'].mean()"
   ]
  },
  {
   "cell_type": "code",
   "execution_count": 22,
   "id": "69f10449",
   "metadata": {},
   "outputs": [],
   "source": [
    "# output['image'].std()"
   ]
  },
  {
   "cell_type": "code",
   "execution_count": 23,
   "id": "aaa7ce71",
   "metadata": {},
   "outputs": [],
   "source": [
    "# plt.imshow(output['image'].squeeze().numpy()) #压缩维度"
   ]
  },
  {
   "cell_type": "markdown",
   "id": "a1916814",
   "metadata": {},
   "source": [
    "## Dataset"
   ]
  },
  {
   "cell_type": "code",
   "execution_count": 24,
   "id": "bbda2594",
   "metadata": {},
   "outputs": [],
   "source": [
    "class MiniDataSet(Dataset):\n",
    "    \n",
    "    # 初始化\n",
    "    def __init__(self,images,labels=None,transform=None):#训练时保留target 测试时不需要\n",
    "        self.images = images.astype(\"float32\")\n",
    "        self.labels = labels\n",
    "        self.transform = transform # 数据处理流程\n",
    "        \n",
    "    # 返回图片个数\n",
    "    def __len__(self):\n",
    "        return len(self.images)\n",
    "    \n",
    "    def __getitem__(self,idx):\n",
    "        ret = {}\n",
    "        img = self.images[idx]\n",
    "        \n",
    "        if self.transform is not None:\n",
    "            img = self.transform(image=img)[\"image\"]\n",
    "        ret[\"image\"] = img\n",
    "        \n",
    "        if self.labels is not None:\n",
    "            ret[\"label\"] = self.labels[idx]\n",
    "            \n",
    "        return ret"
   ]
  },
  {
   "cell_type": "code",
   "execution_count": 25,
   "id": "8bad4a7e",
   "metadata": {},
   "outputs": [],
   "source": [
    "# ds = MiniDataSet(train_images,train_labels,get_transform((28,28),True))"
   ]
  },
  {
   "cell_type": "markdown",
   "id": "753b9ab9",
   "metadata": {},
   "source": [
    "## Model"
   ]
  },
  {
   "cell_type": "code",
   "execution_count": 26,
   "id": "81a7e3ec",
   "metadata": {},
   "outputs": [],
   "source": [
    "class MiniModel(nn.Module):\n",
    "    def __init__(self,backbone,num_class,pretrained=False,backbone_ckpt=None):\n",
    "        \n",
    "        super().__init__()\n",
    "        self.backbone = timm.create_model(backbone,pretrained = pretrained,\n",
    "                                          checkpoint_path=backbone_ckpt,in_chans=1)# 骨架网络\n",
    "        self.head = nn.Linear(self.backbone.get_classifier().in_features,num_class)# 定义一个新的head层\n",
    "        self.backbone.head.fc = nn.Identity() # 把官方的分类层变成常数\n",
    "        self.loss_fn = NLLLoss() # 损失函数\n",
    "        \n",
    "    def forward(self,image,label=None):\n",
    "        embed = self.backbone(image) # 用图片对骨架编码\n",
    "        logit = self.head(embed) # head来对图片分类，预测结果放入logit\n",
    "\n",
    "    \n",
    "        if label is not None:\n",
    "            logit_logsoftmax = torch.log_softmax(logit, 1)\n",
    "            loss = self.loss_fn(logit_logsoftmax, label)\n",
    "            return {\"prediction\":logit,\"loss\":loss} # 如果有label 返回预测结果logit和loss\n",
    "        return {\"prediction\":logit} # 如果没有label-针对测试集，只返回预测结果"
   ]
  },
  {
   "cell_type": "code",
   "execution_count": 27,
   "id": "5f75e5fa",
   "metadata": {},
   "outputs": [],
   "source": [
    "# ds = MiniDataSet(train_images,train_labels,get_transform((224,224),True))"
   ]
  },
  {
   "cell_type": "code",
   "execution_count": 28,
   "id": "9739e2a0",
   "metadata": {},
   "outputs": [],
   "source": [
    "# model = MiniModel(\"convnext_small\",10,True)"
   ]
  },
  {
   "cell_type": "code",
   "execution_count": 29,
   "id": "468d2106",
   "metadata": {},
   "outputs": [],
   "source": [
    "# ds.images = ds.images.astype(\"float32\")"
   ]
  },
  {
   "cell_type": "code",
   "execution_count": 30,
   "id": "acbb4b88",
   "metadata": {},
   "outputs": [],
   "source": [
    "# ds[0]['image'].unsqueeze(0).shape # bs,c,h,w"
   ]
  },
  {
   "cell_type": "code",
   "execution_count": 31,
   "id": "1e7e76c8",
   "metadata": {},
   "outputs": [],
   "source": [
    "# model(ds[0]['image'].unsqueeze(0))"
   ]
  },
  {
   "cell_type": "code",
   "execution_count": 32,
   "id": "1ec08a71",
   "metadata": {},
   "outputs": [],
   "source": [
    "# net = timm.create_model(\"convnext_small\")"
   ]
  },
  {
   "cell_type": "code",
   "execution_count": 33,
   "id": "b575fdd8",
   "metadata": {
    "scrolled": true
   },
   "outputs": [],
   "source": [
    "# net"
   ]
  },
  {
   "cell_type": "code",
   "execution_count": 34,
   "id": "67d54c8f",
   "metadata": {},
   "outputs": [],
   "source": [
    "# net.get_classifier().in_features #直接取出特征个数"
   ]
  },
  {
   "cell_type": "code",
   "execution_count": 35,
   "id": "0fd85c26",
   "metadata": {},
   "outputs": [],
   "source": [
    "# net.head.fc = nn.Identity()"
   ]
  },
  {
   "cell_type": "code",
   "execution_count": 36,
   "id": "dfa5cdc3",
   "metadata": {},
   "outputs": [],
   "source": [
    "# net.head"
   ]
  },
  {
   "cell_type": "markdown",
   "id": "1d40c20e",
   "metadata": {},
   "source": [
    "## Pipeline\n",
    "\n",
    "- train_fn\n",
    "- eval_fn\n",
    "- pred_fn"
   ]
  },
  {
   "cell_type": "code",
   "execution_count": 37,
   "id": "54ce987f",
   "metadata": {},
   "outputs": [],
   "source": [
    "# model.train() # 训练方法-将模型转化为训练阶段"
   ]
  },
  {
   "cell_type": "code",
   "execution_count": 38,
   "id": "c257acd4",
   "metadata": {},
   "outputs": [],
   "source": [
    "from tqdm import tqdm"
   ]
  },
  {
   "cell_type": "code",
   "execution_count": 39,
   "id": "595ba815",
   "metadata": {},
   "outputs": [],
   "source": [
    "def train_one_epoch(model, optimizer, dataloader, device):\n",
    "    model.to(device)\n",
    "    model.train()\n",
    "    train_loss = []\n",
    "    \n",
    "    for batch in tqdm(dataloader):\n",
    "        output = model(batch[\"image\"].to(device), batch[\"label\"].to(device))\n",
    "        optimizer.zero_grad()\n",
    "        output[\"loss\"].backward()\n",
    "        optimizer.step()\n",
    "        train_loss.append(output['loss'].item())\n",
    "    \n",
    "    return np.mean(train_loss)\n",
    "\n",
    "\n",
    "def eval_one_epoch(model, dataloader, device):\n",
    "    model.to(device)\n",
    "    model.eval()\n",
    "    eval_loss = []\n",
    "    \n",
    "    for step, batch in enumerate(dataloader):\n",
    "        output = model(batch[\"image\"].to(device), batch[\"label\"].to(device))\n",
    "        eval_loss.append(output['loss'].item())\n",
    "    \n",
    "    return np.mean(eval_loss)\n",
    "\n",
    "\n",
    "def predict(model, dataloader, device):\n",
    "    model.to(device)\n",
    "    model.eval()\n",
    "    predictions = []\n",
    "    \n",
    "    for step, batch in enumerate(dataloader):\n",
    "        output = model(batch[\"image\"].to(device))\n",
    "        prediction = torch.argmax(output['prediction'], 1)\n",
    "        predictions.append(prediction.cpu().numpy())\n",
    "    \n",
    "    predictions = np.concatenate(predictions, axis=0)\n",
    "    return predictions"
   ]
  },
  {
   "cell_type": "code",
   "execution_count": 40,
   "id": "5421e768",
   "metadata": {},
   "outputs": [],
   "source": [
    "CONFIG = EasyDict({\n",
    "    \"backbone\":\"convnext_small\",\n",
    "    \"num_class\":10,\n",
    "    \"image_size\":(32,32),\n",
    "    \"pretrained\":True,\n",
    "    \"epochs\":5,\n",
    "    \"batch_size\":258,\n",
    "    \"num_workers\":0,\n",
    "    \"device\":\"cpu\"\n",
    "})"
   ]
  },
  {
   "cell_type": "code",
   "execution_count": 41,
   "id": "5862eecf",
   "metadata": {},
   "outputs": [],
   "source": [
    "train_transform = get_transform(CONFIG.image_size,True)\n",
    "valid_transform = get_transform(CONFIG.image_size,False)\n",
    "\n",
    "full_train_ds = MiniDataSet(train_images,train_labels,train_transform) # 训练集\n",
    "train_ds = MiniDataSet(train_images[:40000],train_labels[:40000],train_transform) # 用于训练的训练集\n",
    "val_ds = MiniDataSet(train_images[40000:],train_labels[40000:],valid_transform) # 用Subset函数从full_train_ds中划分出一部分作为验证集\n",
    "test_ds = MiniDataSet(test_images,transform=valid_transform) # 测试集"
   ]
  },
  {
   "cell_type": "code",
   "execution_count": 42,
   "id": "f1e606dd",
   "metadata": {},
   "outputs": [
    {
     "data": {
      "text/plain": [
       "42000"
      ]
     },
     "execution_count": 42,
     "metadata": {},
     "output_type": "execute_result"
    }
   ],
   "source": [
    "len(full_train_ds)"
   ]
  },
  {
   "cell_type": "code",
   "execution_count": 43,
   "id": "57edd6cd",
   "metadata": {},
   "outputs": [],
   "source": [
    "full_train_dl=DataLoader(full_train_ds,batch_size=CONFIG.batch_size, num_workers=CONFIG.num_workers,shuffle=True,drop_last=True)\n",
    "train_dl = DataLoader(train_ds,batch_size=CONFIG.batch_size, num_workers=CONFIG.num_workers,shuffle=True,drop_last=True)\n",
    "val_dl = DataLoader(val_ds,batch_size=CONFIG.batch_size, num_workers=CONFIG.num_workers,shuffle=False,drop_last=False)\n",
    "test_dl = DataLoader(test_ds,batch_size=CONFIG.batch_size, num_workers=CONFIG.num_workers,shuffle=False,drop_last=False)"
   ]
  },
  {
   "cell_type": "code",
   "execution_count": 44,
   "id": "a6118f32",
   "metadata": {},
   "outputs": [],
   "source": [
    "model = MiniModel(backbone=CONFIG.backbone,num_class=CONFIG.num_class,pretrained=CONFIG.pretrained)\n",
    "optimizer = Adam(model.parameters(),lr=0.0005)"
   ]
  },
  {
   "cell_type": "code",
   "execution_count": 45,
   "id": "fd9d2219",
   "metadata": {},
   "outputs": [
    {
     "name": "stderr",
     "output_type": "stream",
     "text": [
      "100%|████████████████████████████████████████████████████████████████████████████████| 155/155 [11:34<00:00,  4.48s/it]\n"
     ]
    },
    {
     "name": "stdout",
     "output_type": "stream",
     "text": [
      "Epoch_1, train_loss 2.0997, val_loss 0.6298\n"
     ]
    },
    {
     "name": "stderr",
     "output_type": "stream",
     "text": [
      "100%|████████████████████████████████████████████████████████████████████████████████| 155/155 [12:52<00:00,  4.98s/it]\n"
     ]
    },
    {
     "name": "stdout",
     "output_type": "stream",
     "text": [
      "Epoch_2, train_loss 0.6731, val_loss 0.1631\n"
     ]
    },
    {
     "name": "stderr",
     "output_type": "stream",
     "text": [
      "100%|████████████████████████████████████████████████████████████████████████████████| 155/155 [13:17<00:00,  5.15s/it]\n"
     ]
    },
    {
     "name": "stdout",
     "output_type": "stream",
     "text": [
      "Epoch_3, train_loss 0.5734, val_loss 0.1408\n"
     ]
    },
    {
     "name": "stderr",
     "output_type": "stream",
     "text": [
      "100%|████████████████████████████████████████████████████████████████████████████████| 155/155 [10:43<00:00,  4.15s/it]\n"
     ]
    },
    {
     "name": "stdout",
     "output_type": "stream",
     "text": [
      "Epoch_4, train_loss 0.5539, val_loss 0.0998\n"
     ]
    },
    {
     "name": "stderr",
     "output_type": "stream",
     "text": [
      "100%|████████████████████████████████████████████████████████████████████████████████| 155/155 [13:22<00:00,  5.18s/it]\n"
     ]
    },
    {
     "name": "stdout",
     "output_type": "stream",
     "text": [
      "Epoch_5, train_loss 0.5341, val_loss 0.0827\n"
     ]
    }
   ],
   "source": [
    "for epoch in range(CONFIG.epochs):\n",
    "    train_loss = train_one_epoch(model, optimizer, train_dl, CONFIG.device)\n",
    "    val_loss = eval_one_epoch(model, val_dl, CONFIG.device)\n",
    "    print(f\"Epoch_{epoch+1}, train_loss {train_loss:.4f}, val_loss {val_loss:.4f}\")"
   ]
  },
  {
   "cell_type": "markdown",
   "id": "c801fe35",
   "metadata": {},
   "source": [
    "## 预测"
   ]
  },
  {
   "cell_type": "code",
   "execution_count": 46,
   "id": "987bdb6f",
   "metadata": {},
   "outputs": [],
   "source": [
    "val_prediction = predict(model,val_dl,device = CONFIG.device)"
   ]
  },
  {
   "cell_type": "code",
   "execution_count": null,
   "id": "40309633",
   "metadata": {},
   "outputs": [],
   "source": []
  }
 ],
 "metadata": {
  "kernelspec": {
   "display_name": "Python 3 (ipykernel)",
   "language": "python",
   "name": "python3"
  },
  "language_info": {
   "codemirror_mode": {
    "name": "ipython",
    "version": 3
   },
   "file_extension": ".py",
   "mimetype": "text/x-python",
   "name": "python",
   "nbconvert_exporter": "python",
   "pygments_lexer": "ipython3",
   "version": "3.9.12"
  },
  "toc": {
   "base_numbering": 1,
   "nav_menu": {},
   "number_sections": true,
   "sideBar": true,
   "skip_h1_title": false,
   "title_cell": "Table of Contents",
   "title_sidebar": "Contents",
   "toc_cell": false,
   "toc_position": {
    "height": "calc(100% - 180px)",
    "left": "10px",
    "top": "150px",
    "width": "165px"
   },
   "toc_section_display": false,
   "toc_window_display": false
  },
  "varInspector": {
   "cols": {
    "lenName": 16,
    "lenType": 16,
    "lenVar": 40
   },
   "kernels_config": {
    "python": {
     "delete_cmd_postfix": "",
     "delete_cmd_prefix": "del ",
     "library": "var_list.py",
     "varRefreshCmd": "print(var_dic_list())"
    },
    "r": {
     "delete_cmd_postfix": ") ",
     "delete_cmd_prefix": "rm(",
     "library": "var_list.r",
     "varRefreshCmd": "cat(var_dic_list()) "
    }
   },
   "oldHeight": 122.85,
   "position": {
    "height": "144.45px",
    "left": "160.4px",
    "right": "20px",
    "top": "120px",
    "width": "350px"
   },
   "types_to_exclude": [
    "module",
    "function",
    "builtin_function_or_method",
    "instance",
    "_Feature"
   ],
   "varInspector_section_display": "block",
   "window_display": false
  }
 },
 "nbformat": 4,
 "nbformat_minor": 5
}
