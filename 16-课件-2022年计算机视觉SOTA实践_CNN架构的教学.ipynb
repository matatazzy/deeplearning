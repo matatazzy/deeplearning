{
 "cells": [
  {
   "cell_type": "markdown",
   "id": "1940986d",
   "metadata": {},
   "source": [
    "# [MinimalAI] 2022年计算机视觉SOTA实践\n",
    "\n",
    "**Author: KKY@布尔艺数**\n",
    "<div algin=center>\n",
    "<img src=\"https://github.com/EvilPsyCHo/BoolArt/blob/main/logo/logo_horizontal.png?raw=true\" width = \"300\" height = \"200\" />\n",
    "</div>\n",
    "\n",
    "1. **Timm** for SOTA Pretrained Model\n",
    "2. **albumentations** for Data Augmentation\n",
    "3. **Pure Pytorch** for Implement train pipeline\n",
    "4. 采用[Digit Recognizer](https://www.kaggle.com/competitions/digit-recognizer)测试"
   ]
  },
  {
   "cell_type": "code",
   "execution_count": 1,
   "id": "b622a3b0",
   "metadata": {},
   "outputs": [],
   "source": [
    "\n",
    "import pandas as pd\n",
    "import numpy as np\n",
    "import cv2\n",
    "from easydict import EasyDict\n",
    "import yaml\n",
    "\n",
    "import torch\n",
    "import torch.nn as nn\n",
    "from torch.optim import Adam, SGD, AdamW\n",
    "from torch.utils.data import Dataset, DataLoader, Subset\n",
    "from torch.nn import CrossEntropyLoss, NLLLoss\n",
    "\n",
    "import albumentations as A\n",
    "from albumentations.pytorch import ToTensorV2\n",
    "\n",
    "import timm\n",
    "\n",
    "import matplotlib.pyplot as plt\n",
    "%matplotlib inline"
   ]
  },
  {
   "cell_type": "markdown",
   "id": "2fb5b2e0",
   "metadata": {},
   "source": [
    "## Data"
   ]
  },
  {
   "cell_type": "code",
   "execution_count": 2,
   "id": "07a1a460",
   "metadata": {},
   "outputs": [
    {
     "name": "stdout",
     "output_type": "stream",
     "text": [
      "sample_submission.csv  test.csv  train.csv\r\n"
     ]
    }
   ],
   "source": [
    "!ls ./digit-recognizer"
   ]
  },
  {
   "cell_type": "code",
   "execution_count": 3,
   "id": "8c442731",
   "metadata": {},
   "outputs": [],
   "source": [
    "train = pd.read_csv(\"./digit-recognizer/train.csv\")\n",
    "test = pd.read_csv(\"./digit-recognizer/test.csv\")\n",
    "submission = pd.read_csv(\"./digit-recognizer/sample_submission.csv\")"
   ]
  },
  {
   "cell_type": "code",
   "execution_count": 4,
   "id": "a846d152",
   "metadata": {},
   "outputs": [
    {
     "data": {
      "text/html": [
       "<div>\n",
       "<style scoped>\n",
       "    .dataframe tbody tr th:only-of-type {\n",
       "        vertical-align: middle;\n",
       "    }\n",
       "\n",
       "    .dataframe tbody tr th {\n",
       "        vertical-align: top;\n",
       "    }\n",
       "\n",
       "    .dataframe thead th {\n",
       "        text-align: right;\n",
       "    }\n",
       "</style>\n",
       "<table border=\"1\" class=\"dataframe\">\n",
       "  <thead>\n",
       "    <tr style=\"text-align: right;\">\n",
       "      <th></th>\n",
       "      <th>label</th>\n",
       "      <th>pixel0</th>\n",
       "      <th>pixel1</th>\n",
       "      <th>pixel2</th>\n",
       "      <th>pixel3</th>\n",
       "      <th>pixel4</th>\n",
       "      <th>pixel5</th>\n",
       "      <th>pixel6</th>\n",
       "      <th>pixel7</th>\n",
       "      <th>pixel8</th>\n",
       "      <th>...</th>\n",
       "      <th>pixel774</th>\n",
       "      <th>pixel775</th>\n",
       "      <th>pixel776</th>\n",
       "      <th>pixel777</th>\n",
       "      <th>pixel778</th>\n",
       "      <th>pixel779</th>\n",
       "      <th>pixel780</th>\n",
       "      <th>pixel781</th>\n",
       "      <th>pixel782</th>\n",
       "      <th>pixel783</th>\n",
       "    </tr>\n",
       "  </thead>\n",
       "  <tbody>\n",
       "    <tr>\n",
       "      <th>0</th>\n",
       "      <td>1</td>\n",
       "      <td>0</td>\n",
       "      <td>0</td>\n",
       "      <td>0</td>\n",
       "      <td>0</td>\n",
       "      <td>0</td>\n",
       "      <td>0</td>\n",
       "      <td>0</td>\n",
       "      <td>0</td>\n",
       "      <td>0</td>\n",
       "      <td>...</td>\n",
       "      <td>0</td>\n",
       "      <td>0</td>\n",
       "      <td>0</td>\n",
       "      <td>0</td>\n",
       "      <td>0</td>\n",
       "      <td>0</td>\n",
       "      <td>0</td>\n",
       "      <td>0</td>\n",
       "      <td>0</td>\n",
       "      <td>0</td>\n",
       "    </tr>\n",
       "    <tr>\n",
       "      <th>1</th>\n",
       "      <td>0</td>\n",
       "      <td>0</td>\n",
       "      <td>0</td>\n",
       "      <td>0</td>\n",
       "      <td>0</td>\n",
       "      <td>0</td>\n",
       "      <td>0</td>\n",
       "      <td>0</td>\n",
       "      <td>0</td>\n",
       "      <td>0</td>\n",
       "      <td>...</td>\n",
       "      <td>0</td>\n",
       "      <td>0</td>\n",
       "      <td>0</td>\n",
       "      <td>0</td>\n",
       "      <td>0</td>\n",
       "      <td>0</td>\n",
       "      <td>0</td>\n",
       "      <td>0</td>\n",
       "      <td>0</td>\n",
       "      <td>0</td>\n",
       "    </tr>\n",
       "  </tbody>\n",
       "</table>\n",
       "<p>2 rows × 785 columns</p>\n",
       "</div>"
      ],
      "text/plain": [
       "   label  pixel0  pixel1  pixel2  pixel3  pixel4  pixel5  pixel6  pixel7  \\\n",
       "0      1       0       0       0       0       0       0       0       0   \n",
       "1      0       0       0       0       0       0       0       0       0   \n",
       "\n",
       "   pixel8  ...  pixel774  pixel775  pixel776  pixel777  pixel778  pixel779  \\\n",
       "0       0  ...         0         0         0         0         0         0   \n",
       "1       0  ...         0         0         0         0         0         0   \n",
       "\n",
       "   pixel780  pixel781  pixel782  pixel783  \n",
       "0         0         0         0         0  \n",
       "1         0         0         0         0  \n",
       "\n",
       "[2 rows x 785 columns]"
      ]
     },
     "execution_count": 4,
     "metadata": {},
     "output_type": "execute_result"
    }
   ],
   "source": [
    "train.head(2)"
   ]
  },
  {
   "cell_type": "code",
   "execution_count": 5,
   "id": "cdceb0f2",
   "metadata": {},
   "outputs": [
    {
     "data": {
      "text/plain": [
       "<matplotlib.image.AxesImage at 0x7f6dec1735e0>"
      ]
     },
     "execution_count": 5,
     "metadata": {},
     "output_type": "execute_result"
    },
    {
     "data": {
      "image/png": "[encoded data removed]",
      "text/plain": [
       "<Figure size 432x288 with 1 Axes>"
      ]
     },
     "metadata": {
      "needs_background": "light"
     },
     "output_type": "display_data"
    }
   ],
   "source": [
    "plt.imshow(train.iloc[0, 1:].values.reshape(28, 28))"
   ]
  },
  {
   "cell_type": "code",
   "execution_count": 6,
   "id": "4d255606",
   "metadata": {},
   "outputs": [
    {
     "data": {
      "text/html": [
       "<div>\n",
       "<style scoped>\n",
       "    .dataframe tbody tr th:only-of-type {\n",
       "        vertical-align: middle;\n",
       "    }\n",
       "\n",
       "    .dataframe tbody tr th {\n",
       "        vertical-align: top;\n",
       "    }\n",
       "\n",
       "    .dataframe thead th {\n",
       "        text-align: right;\n",
       "    }\n",
       "</style>\n",
       "<table border=\"1\" class=\"dataframe\">\n",
       "  <thead>\n",
       "    <tr style=\"text-align: right;\">\n",
       "      <th></th>\n",
       "      <th>pixel0</th>\n",
       "      <th>pixel1</th>\n",
       "      <th>pixel2</th>\n",
       "      <th>pixel3</th>\n",
       "      <th>pixel4</th>\n",
       "      <th>pixel5</th>\n",
       "      <th>pixel6</th>\n",
       "      <th>pixel7</th>\n",
       "      <th>pixel8</th>\n",
       "      <th>pixel9</th>\n",
       "      <th>...</th>\n",
       "      <th>pixel774</th>\n",
       "      <th>pixel775</th>\n",
       "      <th>pixel776</th>\n",
       "      <th>pixel777</th>\n",
       "      <th>pixel778</th>\n",
       "      <th>pixel779</th>\n",
       "      <th>pixel780</th>\n",
       "      <th>pixel781</th>\n",
       "      <th>pixel782</th>\n",
       "      <th>pixel783</th>\n",
       "    </tr>\n",
       "  </thead>\n",
       "  <tbody>\n",
       "    <tr>\n",
       "      <th>0</th>\n",
       "      <td>0</td>\n",
       "      <td>0</td>\n",
       "      <td>0</td>\n",
       "      <td>0</td>\n",
       "      <td>0</td>\n",
       "      <td>0</td>\n",
       "      <td>0</td>\n",
       "      <td>0</td>\n",
       "      <td>0</td>\n",
       "      <td>0</td>\n",
       "      <td>...</td>\n",
       "      <td>0</td>\n",
       "      <td>0</td>\n",
       "      <td>0</td>\n",
       "      <td>0</td>\n",
       "      <td>0</td>\n",
       "      <td>0</td>\n",
       "      <td>0</td>\n",
       "      <td>0</td>\n",
       "      <td>0</td>\n",
       "      <td>0</td>\n",
       "    </tr>\n",
       "    <tr>\n",
       "      <th>1</th>\n",
       "      <td>0</td>\n",
       "      <td>0</td>\n",
       "      <td>0</td>\n",
       "      <td>0</td>\n",
       "      <td>0</td>\n",
       "      <td>0</td>\n",
       "      <td>0</td>\n",
       "      <td>0</td>\n",
       "      <td>0</td>\n",
       "      <td>0</td>\n",
       "      <td>...</td>\n",
       "      <td>0</td>\n",
       "      <td>0</td>\n",
       "      <td>0</td>\n",
       "      <td>0</td>\n",
       "      <td>0</td>\n",
       "      <td>0</td>\n",
       "      <td>0</td>\n",
       "      <td>0</td>\n",
       "      <td>0</td>\n",
       "      <td>0</td>\n",
       "    </tr>\n",
       "    <tr>\n",
       "      <th>2</th>\n",
       "      <td>0</td>\n",
       "      <td>0</td>\n",
       "      <td>0</td>\n",
       "      <td>0</td>\n",
       "      <td>0</td>\n",
       "      <td>0</td>\n",
       "      <td>0</td>\n",
       "      <td>0</td>\n",
       "      <td>0</td>\n",
       "      <td>0</td>\n",
       "      <td>...</td>\n",
       "      <td>0</td>\n",
       "      <td>0</td>\n",
       "      <td>0</td>\n",
       "      <td>0</td>\n",
       "      <td>0</td>\n",
       "      <td>0</td>\n",
       "      <td>0</td>\n",
       "      <td>0</td>\n",
       "      <td>0</td>\n",
       "      <td>0</td>\n",
       "    </tr>\n",
       "    <tr>\n",
       "      <th>3</th>\n",
       "      <td>0</td>\n",
       "      <td>0</td>\n",
       "      <td>0</td>\n",
       "      <td>0</td>\n",
       "      <td>0</td>\n",
       "      <td>0</td>\n",
       "      <td>0</td>\n",
       "      <td>0</td>\n",
       "      <td>0</td>\n",
       "      <td>0</td>\n",
       "      <td>...</td>\n",
       "      <td>0</td>\n",
       "      <td>0</td>\n",
       "      <td>0</td>\n",
       "      <td>0</td>\n",
       "      <td>0</td>\n",
       "      <td>0</td>\n",
       "      <td>0</td>\n",
       "      <td>0</td>\n",
       "      <td>0</td>\n",
       "      <td>0</td>\n",
       "    </tr>\n",
       "    <tr>\n",
       "      <th>4</th>\n",
       "      <td>0</td>\n",
       "      <td>0</td>\n",
       "      <td>0</td>\n",
       "      <td>0</td>\n",
       "      <td>0</td>\n",
       "      <td>0</td>\n",
       "      <td>0</td>\n",
       "      <td>0</td>\n",
       "      <td>0</td>\n",
       "      <td>0</td>\n",
       "      <td>...</td>\n",
       "      <td>0</td>\n",
       "      <td>0</td>\n",
       "      <td>0</td>\n",
       "      <td>0</td>\n",
       "      <td>0</td>\n",
       "      <td>0</td>\n",
       "      <td>0</td>\n",
       "      <td>0</td>\n",
       "      <td>0</td>\n",
       "      <td>0</td>\n",
       "    </tr>\n",
       "  </tbody>\n",
       "</table>\n",
       "<p>5 rows × 784 columns</p>\n",
       "</div>"
      ],
      "text/plain": [
       "   pixel0  pixel1  pixel2  pixel3  pixel4  pixel5  pixel6  pixel7  pixel8  \\\n",
       "0       0       0       0       0       0       0       0       0       0   \n",
       "1       0       0       0       0       0       0       0       0       0   \n",
       "2       0       0       0       0       0       0       0       0       0   \n",
       "3       0       0       0       0       0       0       0       0       0   \n",
       "4       0       0       0       0       0       0       0       0       0   \n",
       "\n",
       "   pixel9  ...  pixel774  pixel775  pixel776  pixel777  pixel778  pixel779  \\\n",
       "0       0  ...         0         0         0         0         0         0   \n",
       "1       0  ...         0         0         0         0         0         0   \n",
       "2       0  ...         0         0         0         0         0         0   \n",
       "3       0  ...         0         0         0         0         0         0   \n",
       "4       0  ...         0         0         0         0         0         0   \n",
       "\n",
       "   pixel780  pixel781  pixel782  pixel783  \n",
       "0         0         0         0         0  \n",
       "1         0         0         0         0  \n",
       "2         0         0         0         0  \n",
       "3         0         0         0         0  \n",
       "4         0         0         0         0  \n",
       "\n",
       "[5 rows x 784 columns]"
      ]
     },
     "execution_count": 6,
     "metadata": {},
     "output_type": "execute_result"
    }
   ],
   "source": [
    "test.head()"
   ]
  },
  {
   "cell_type": "code",
   "execution_count": 7,
   "id": "0ef2b896",
   "metadata": {},
   "outputs": [
    {
     "data": {
      "text/html": [
       "<div>\n",
       "<style scoped>\n",
       "    .dataframe tbody tr th:only-of-type {\n",
       "        vertical-align: middle;\n",
       "    }\n",
       "\n",
       "    .dataframe tbody tr th {\n",
       "        vertical-align: top;\n",
       "    }\n",
       "\n",
       "    .dataframe thead th {\n",
       "        text-align: right;\n",
       "    }\n",
       "</style>\n",
       "<table border=\"1\" class=\"dataframe\">\n",
       "  <thead>\n",
       "    <tr style=\"text-align: right;\">\n",
       "      <th></th>\n",
       "      <th>ImageId</th>\n",
       "      <th>Label</th>\n",
       "    </tr>\n",
       "  </thead>\n",
       "  <tbody>\n",
       "    <tr>\n",
       "      <th>0</th>\n",
       "      <td>1</td>\n",
       "      <td>0</td>\n",
       "    </tr>\n",
       "    <tr>\n",
       "      <th>1</th>\n",
       "      <td>2</td>\n",
       "      <td>0</td>\n",
       "    </tr>\n",
       "    <tr>\n",
       "      <th>2</th>\n",
       "      <td>3</td>\n",
       "      <td>0</td>\n",
       "    </tr>\n",
       "    <tr>\n",
       "      <th>3</th>\n",
       "      <td>4</td>\n",
       "      <td>0</td>\n",
       "    </tr>\n",
       "    <tr>\n",
       "      <th>4</th>\n",
       "      <td>5</td>\n",
       "      <td>0</td>\n",
       "    </tr>\n",
       "  </tbody>\n",
       "</table>\n",
       "</div>"
      ],
      "text/plain": [
       "   ImageId  Label\n",
       "0        1      0\n",
       "1        2      0\n",
       "2        3      0\n",
       "3        4      0\n",
       "4        5      0"
      ]
     },
     "execution_count": 7,
     "metadata": {},
     "output_type": "execute_result"
    }
   ],
   "source": [
    "submission.head()"
   ]
  },
  {
   "cell_type": "code",
   "execution_count": 8,
   "id": "76b7ed80",
   "metadata": {},
   "outputs": [],
   "source": [
    "train_images = train.iloc[:, 1:].values.reshape(-1, 28, 28)\n",
    "train_labels = train.iloc[:, 0].values\n",
    "\n",
    "test_images = test.values.reshape(-1, 28, 28)"
   ]
  },
  {
   "cell_type": "code",
   "execution_count": 9,
   "id": "50d9ade7",
   "metadata": {},
   "outputs": [
    {
     "data": {
      "text/plain": [
       "(42000, 28, 28)"
      ]
     },
     "execution_count": 9,
     "metadata": {},
     "output_type": "execute_result"
    }
   ],
   "source": [
    "train_images.shape"
   ]
  },
  {
   "cell_type": "code",
   "execution_count": 10,
   "id": "982a6f04",
   "metadata": {},
   "outputs": [
    {
     "data": {
      "text/plain": [
       "{0, 1, 2, 3, 4, 5, 6, 7, 8, 9}"
      ]
     },
     "execution_count": 10,
     "metadata": {},
     "output_type": "execute_result"
    }
   ],
   "source": [
    "set(train_labels)"
   ]
  },
  {
   "cell_type": "code",
   "execution_count": 11,
   "id": "5e31c51d",
   "metadata": {},
   "outputs": [
    {
     "data": {
      "text/plain": [
       "True"
      ]
     },
     "execution_count": 11,
     "metadata": {},
     "output_type": "execute_result"
    }
   ],
   "source": [
    "len(train_labels) == len(train_images)"
   ]
  },
  {
   "cell_type": "code",
   "execution_count": 12,
   "id": "0240af88",
   "metadata": {},
   "outputs": [
    {
     "data": {
      "text/plain": [
       "(28000, 28, 28)"
      ]
     },
     "execution_count": 12,
     "metadata": {},
     "output_type": "execute_result"
    }
   ],
   "source": [
    "test_images.shape"
   ]
  },
  {
   "cell_type": "code",
   "execution_count": 13,
   "id": "75a75558",
   "metadata": {},
   "outputs": [
    {
     "data": {
      "text/plain": [
       "0.13101533792088266"
      ]
     },
     "execution_count": 13,
     "metadata": {},
     "output_type": "execute_result"
    }
   ],
   "source": [
    "train_images.mean() / 255"
   ]
  },
  {
   "cell_type": "code",
   "execution_count": 14,
   "id": "e9bdad2e",
   "metadata": {},
   "outputs": [
    {
     "data": {
      "text/plain": [
       "0.3085401559245608"
      ]
     },
     "execution_count": 14,
     "metadata": {},
     "output_type": "execute_result"
    }
   ],
   "source": [
    "train_images.std() / 255"
   ]
  },
  {
   "cell_type": "code",
   "execution_count": 15,
   "id": "a476ef73",
   "metadata": {},
   "outputs": [
    {
     "data": {
      "text/plain": [
       "255"
      ]
     },
     "execution_count": 15,
     "metadata": {},
     "output_type": "execute_result"
    }
   ],
   "source": [
    "train_images.max()"
   ]
  },
  {
   "cell_type": "markdown",
   "id": "3083f1be",
   "metadata": {},
   "source": [
    "## Image Augmentation\n",
    "\n",
    "1. 图片增强;\n",
    "2. 图片尺寸；\n",
    "3. 标准化；\n",
    "4. 匹配到模型input format;"
   ]
  },
  {
   "cell_type": "code",
   "execution_count": 16,
   "id": "cde094d7",
   "metadata": {},
   "outputs": [],
   "source": [
    "def get_transform(image_size, train=True):\n",
    "    if train:\n",
    "        return A.Compose([\n",
    "                    A.HorizontalFlip(p=0.5),\n",
    "                    A.VerticalFlip(p=0.5),\n",
    "                    A.RandomBrightnessContrast(p=0.2),\n",
    "                    A.Resize(*image_size, interpolation=cv2.INTER_LANCZOS4),\n",
    "                    A.Normalize(0.1310, 0.30854),\n",
    "                    ToTensorV2(),\n",
    "                ])\n",
    "    else:\n",
    "        return A.Compose([\n",
    "                    A.Resize(*image_size, interpolation=cv2.INTER_LANCZOS4),\n",
    "                    A.Normalize(0.1310, 0.30854),\n",
    "                    ToTensorV2(),\n",
    "                ])"
   ]
  },
  {
   "cell_type": "markdown",
   "id": "df7f3e02",
   "metadata": {},
   "source": [
    "## Dataset"
   ]
  },
  {
   "cell_type": "code",
   "execution_count": 17,
   "id": "796e1a99",
   "metadata": {},
   "outputs": [],
   "source": [
    "class MiniDataSet(Dataset):\n",
    "    \n",
    "    def __init__(self, images, labels=None, transform=None):\n",
    "        self.images = images.astype(\"float32\")\n",
    "        self.labels = labels\n",
    "        self.transform = transform\n",
    "    \n",
    "    def __len__(self):\n",
    "        return len(self.images)\n",
    "    \n",
    "    def __getitem__(self, idx):\n",
    "        ret = {}\n",
    "        img = self.images[idx]\n",
    "        \n",
    "        if self.transform is not None:\n",
    "            img = self.transform(image=img)[\"image\"]\n",
    "        ret[\"image\"] = img\n",
    "        \n",
    "        if self.labels is not None:\n",
    "            ret[\"label\"] = self.labels[idx]\n",
    "        \n",
    "        return ret"
   ]
  },
  {
   "cell_type": "markdown",
   "id": "e99b36ec",
   "metadata": {},
   "source": [
    "## Model"
   ]
  },
  {
   "cell_type": "code",
   "execution_count": 18,
   "id": "8e80899f",
   "metadata": {},
   "outputs": [],
   "source": [
    "class MiniModel(nn.Module):\n",
    "    \n",
    "    def __init__(self, backbone, num_class, pretrained=False, backbone_ckpt=None):\n",
    "        \n",
    "        super().__init__()\n",
    "        self.backbone = timm.create_model(backbone, pretrained=pretrained, \n",
    "                                          checkpoint_path=backbone_ckpt, in_chans=1)\n",
    "        self.head = nn.Linear(self.backbone.get_classifier().in_features, num_class)\n",
    "        self.backbone.head.fc = nn.Identity()\n",
    "        self.loss_fn = NLLLoss()\n",
    "    \n",
    "    def forward(self, image, label=None):\n",
    "        embed = self.backbone(image)\n",
    "        logit = self.head(embed)\n",
    "        \n",
    "        if label is not None:\n",
    "            logit_logsoftmax = torch.log_softmax(logit, 1)\n",
    "            loss = self.loss_fn(logit_logsoftmax, label)\n",
    "            return {\"prediction\": logit, \"loss\": loss}\n",
    "        return {\"prediction\": logit}"
   ]
  },
  {
   "cell_type": "markdown",
   "id": "9ddbe9b8",
   "metadata": {},
   "source": [
    "## Pipeline\n",
    "\n",
    "- train_fn\n",
    "- eval_fn\n",
    "- pred_fn"
   ]
  },
  {
   "cell_type": "code",
   "execution_count": 19,
   "id": "64b808c0",
   "metadata": {},
   "outputs": [],
   "source": [
    "from tqdm import tqdm"
   ]
  },
  {
   "cell_type": "code",
   "execution_count": 20,
   "id": "f76810a5",
   "metadata": {},
   "outputs": [],
   "source": [
    "def train_one_epoch(model, optimizer, dataloader, device):\n",
    "    model.to(device)\n",
    "    model.train()\n",
    "    train_loss = []\n",
    "    \n",
    "    for batch in tqdm(dataloader):\n",
    "        output = model(batch[\"image\"].to(device), batch[\"label\"].to(device))\n",
    "        optimizer.zero_grad()\n",
    "        output[\"loss\"].backward()\n",
    "        optimizer.step()\n",
    "        train_loss.append(output['loss'].item())\n",
    "    \n",
    "    return np.mean(train_loss)\n",
    "\n",
    "\n",
    "def eval_one_epoch(model, dataloader, device):\n",
    "    model.to(device)\n",
    "    model.eval()\n",
    "    eval_loss = []\n",
    "    \n",
    "    for step, batch in enumerate(dataloader):\n",
    "        output = model(batch[\"image\"].to(device), batch[\"label\"].to(device))\n",
    "        eval_loss.append(output['loss'].item())\n",
    "    \n",
    "    return np.mean(eval_loss)\n",
    "\n",
    "\n",
    "def predict(model, dataloader, device):\n",
    "    model.to(device)\n",
    "    model.eval()\n",
    "    predictions = []\n",
    "    \n",
    "    for step, batch in enumerate(dataloader):\n",
    "        output = model(batch[\"image\"].to(device))\n",
    "        prediction = torch.argmax(output['prediction'], 1)\n",
    "        predictions.append(prediction.cpu().numpy())\n",
    "    \n",
    "    predictions = np.concatenate(predictions, axis=0)\n",
    "    return predictions"
   ]
  },
  {
   "cell_type": "markdown",
   "id": "ae248cf7",
   "metadata": {},
   "source": [
    "## Experiment"
   ]
  },
  {
   "cell_type": "code",
   "execution_count": 88,
   "id": "412eb3aa",
   "metadata": {},
   "outputs": [],
   "source": [
    "CONFIG = EasyDict({\n",
    "    \"backbone\": \"convnext_small\",\n",
    "    \"num_class\": 10,\n",
    "    \"image_size\": (56, 56),\n",
    "    \"pretrained\": True,\n",
    "    \"epochs\": 5,\n",
    "    \"batch_size\": 258,\n",
    "    \"num_workers\": 4,\n",
    "    \"device\": \"cuda:0\"\n",
    "})"
   ]
  },
  {
   "cell_type": "code",
   "execution_count": 89,
   "id": "c7025dfa",
   "metadata": {},
   "outputs": [],
   "source": [
    "train_transform = get_transform(CONFIG.image_size, True)\n",
    "valid_transform = get_transform(CONFIG.image_size, False)\n",
    "\n",
    "\n",
    "full_train_ds = MiniDataSet(train_images, train_labels, train_transform)\n",
    "train_ds = MiniDataSet(train_images[:40000], train_labels[:40000], train_transform)\n",
    "val_ds = MiniDataSet(train_images[40000:], train_labels[40000:], valid_transform)\n",
    "test_ds = MiniDataSet(test_images, transform=valid_transform)"
   ]
  },
  {
   "cell_type": "code",
   "execution_count": 90,
   "id": "ed6506d9",
   "metadata": {},
   "outputs": [],
   "source": [
    "full_train_dl = DataLoader(full_train_ds, batch_size=CONFIG.batch_size, num_workers=CONFIG.num_workers, shuffle=True, drop_last=True)\n",
    "train_dl = DataLoader(train_ds, batch_size=CONFIG.batch_size, num_workers=CONFIG.num_workers, shuffle=True, drop_last=True)\n",
    "val_dl = DataLoader(val_ds, batch_size=CONFIG.batch_size, num_workers=CONFIG.num_workers, shuffle=False, drop_last=False)\n",
    "test_dl = DataLoader(test_ds, batch_size=CONFIG.batch_size, num_workers=CONFIG.num_workers, shuffle=False, drop_last=False)"
   ]
  },
  {
   "cell_type": "code",
   "execution_count": 91,
   "id": "498bb6be",
   "metadata": {},
   "outputs": [],
   "source": [
    "model = MiniModel(backbone=CONFIG.backbone, num_class=CONFIG.num_class, pretrained=CONFIG.pretrained)\n",
    "optimizer = Adam(model.parameters(), lr=0.0005)"
   ]
  },
  {
   "cell_type": "code",
   "execution_count": 92,
   "id": "a172349a",
   "metadata": {},
   "outputs": [
    {
     "name": "stderr",
     "output_type": "stream",
     "text": [
      "100%|█████████████████████████████████████████████████████████████████████████████████████████████████| 155/155 [00:16<00:00,  9.28it/s]\n"
     ]
    },
    {
     "name": "stdout",
     "output_type": "stream",
     "text": [
      "Epoch_1, train loss 0.3486, val loss 0.0985\n"
     ]
    },
    {
     "name": "stderr",
     "output_type": "stream",
     "text": [
      "100%|█████████████████████████████████████████████████████████████████████████████████████████████████| 155/155 [00:16<00:00,  9.23it/s]\n"
     ]
    },
    {
     "name": "stdout",
     "output_type": "stream",
     "text": [
      "Epoch_2, train loss 0.0811, val loss 0.0802\n"
     ]
    },
    {
     "name": "stderr",
     "output_type": "stream",
     "text": [
      "100%|█████████████████████████████████████████████████████████████████████████████████████████████████| 155/155 [00:16<00:00,  9.17it/s]\n"
     ]
    },
    {
     "name": "stdout",
     "output_type": "stream",
     "text": [
      "Epoch_3, train loss 0.0629, val loss 0.0739\n"
     ]
    },
    {
     "name": "stderr",
     "output_type": "stream",
     "text": [
      "100%|█████████████████████████████████████████████████████████████████████████████████████████████████| 155/155 [00:16<00:00,  9.18it/s]\n"
     ]
    },
    {
     "name": "stdout",
     "output_type": "stream",
     "text": [
      "Epoch_4, train loss 0.0487, val loss 0.0535\n"
     ]
    },
    {
     "name": "stderr",
     "output_type": "stream",
     "text": [
      "100%|█████████████████████████████████████████████████████████████████████████████████████████████████| 155/155 [00:16<00:00,  9.12it/s]\n"
     ]
    },
    {
     "name": "stdout",
     "output_type": "stream",
     "text": [
      "Epoch_5, train loss 0.0443, val loss 0.0431\n"
     ]
    }
   ],
   "source": [
    "for epoch in range(CONFIG.epochs):\n",
    "    train_loss = train_one_epoch(model, optimizer, train_dl, CONFIG.device)\n",
    "    val_loss = eval_one_epoch(model, val_dl, CONFIG.device)\n",
    "    print(f\"Epoch_{epoch+1}, train loss {train_loss:.4f}, val loss {val_loss:.4f}\")"
   ]
  },
  {
   "cell_type": "code",
   "execution_count": 93,
   "id": "ee643312",
   "metadata": {},
   "outputs": [],
   "source": [
    "val_prediction = predict(model, val_dl, device=CONFIG.device)\n",
    "test_prediction = predict(model, test_dl, device=CONFIG.device)"
   ]
  },
  {
   "cell_type": "code",
   "execution_count": 94,
   "id": "b4f4f877",
   "metadata": {},
   "outputs": [],
   "source": [
    "from sklearn.metrics import accuracy_score"
   ]
  },
  {
   "cell_type": "code",
   "execution_count": 95,
   "id": "ef1b61f4",
   "metadata": {},
   "outputs": [
    {
     "data": {
      "text/plain": [
       "0.988"
      ]
     },
     "execution_count": 95,
     "metadata": {},
     "output_type": "execute_result"
    }
   ],
   "source": [
    "accuracy_score(train_labels[40000:], val_prediction)"
   ]
  },
  {
   "cell_type": "code",
   "execution_count": 96,
   "id": "6146ad12",
   "metadata": {},
   "outputs": [],
   "source": [
    "submission[\"Label\"] = test_prediction\n",
    "submission.to_csv(\"./submit.csv\", index=False)"
   ]
  },
  {
   "cell_type": "code",
   "execution_count": null,
   "id": "5d6bb802",
   "metadata": {},
   "outputs": [],
   "source": []
  }
 ],
 "metadata": {
  "kernelspec": {
   "display_name": "Python 3 (ipykernel)",
   "language": "python",
   "name": "python3"
  },
  "language_info": {
   "codemirror_mode": {
    "name": "ipython",
    "version": 3
   },
   "file_extension": ".py",
   "mimetype": "text/x-python",
   "name": "python",
   "nbconvert_exporter": "python",
   "pygments_lexer": "ipython3",
   "version": "3.9.12"
  },
  "nbTranslate": {
   "displayLangs": [
    "*"
   ],
   "hotkey": "alt-t",
   "langInMainMenu": true,
   "sourceLang": "en",
   "targetLang": "fr",
   "useGoogleTranslate": true
  },
  "toc": {
   "base_numbering": 1,
   "nav_menu": {},
   "number_sections": true,
   "sideBar": true,
   "skip_h1_title": false,
   "title_cell": "Table of Contents",
   "title_sidebar": "Contents",
   "toc_cell": false,
   "toc_position": {},
   "toc_section_display": true,
   "toc_window_display": false
  },
  "varInspector": {
   "cols": {
    "lenName": 16,
    "lenType": 16,
    "lenVar": 40
   },
   "kernels_config": {
    "python": {
     "delete_cmd_postfix": "",
     "delete_cmd_prefix": "del ",
     "library": "var_list.py",
     "varRefreshCmd": "print(var_dic_list())"
    },
    "r": {
     "delete_cmd_postfix": ") ",
     "delete_cmd_prefix": "rm(",
     "library": "var_list.r",
     "varRefreshCmd": "cat(var_dic_list()) "
    }
   },
   "types_to_exclude": [
    "module",
    "function",
    "builtin_function_or_method",
    "instance",
    "_Feature"
   ],
   "window_display": false
  }
 },
 "nbformat": 4,
 "nbformat_minor": 5
}
