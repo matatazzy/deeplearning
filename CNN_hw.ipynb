{
 "cells": [
  {
   "cell_type": "code",
   "execution_count": 1,
   "id": "e47f73ec",
   "metadata": {},
   "outputs": [],
   "source": [
    "import os\n",
    "import sys\n",
    "\n",
    "import cv2\n",
    "import numpy as np\n",
    "import pandas as pd\n",
    "from PIL import Image\n",
    "from matplotlib import pyplot as plt\n",
    "import seaborn as sns\n",
    "import time\n",
    "import random\n",
    "import shutil\n",
    "\n",
    "from easydict import EasyDict\n",
    "from tqdm import tqdm\n",
    "\n",
    "import scipy as sp\n",
    "from sklearn.model_selection import StratifiedKFold, GroupKFold, KFold  # 交叉验证\n",
    "from tqdm.auto import tqdm\n",
    "\n",
    "import torch\n",
    "import torch.nn as nn\n",
    "import torch.nn.functional as F\n",
    "from torch.optim import Adam, SGD, AdamW\n",
    "\n",
    "import torchvision.models as models\n",
    "from torch.utils.data import DataLoader, Dataset\n",
    "from torch.optim.lr_scheduler import CosineAnnealingWarmRestarts, CosineAnnealingLR, ReduceLROnPlateau\n",
    "import albumentations as A\n",
    "from albumentations.pytorch import ToTensorV2\n",
    "import timm\n",
    "\n",
    "#import loss_func\n",
    "from torch.cuda.amp import autocast, GradScaler\n",
    "import warnings\n",
    "\n",
    "warnings.filterwarnings('ignore')"
   ]
  },
  {
   "cell_type": "code",
   "execution_count": 2,
   "id": "17108f83",
   "metadata": {},
   "outputs": [],
   "source": [
    "CFG = EasyDict({\n",
    "    \"model_name\":\"tf_efficientnet_b2\",\n",
    "    \"num_class\": 10,\n",
    "    \"image_size\":(32,32),\n",
    "    \"pretrained\":True,\n",
    "    \"epochs\":5,\n",
    "    \"batch_size\":16,\n",
    "    \"num_workers\":0,\n",
    "    \"device\":\"cpu\",\n",
    "    \"size_h\": 32,\n",
    "    \"size_w\": 32,\n",
    "    \"lr\":3e-4,\n",
    "    \"weight_decay\":1e-6,\n",
    "    \n",
    "})"
   ]
  },
  {
   "cell_type": "markdown",
   "id": "d37f1cc7",
   "metadata": {},
   "source": [
    "# 数据读取"
   ]
  },
  {
   "cell_type": "code",
   "execution_count": 3,
   "id": "62333716",
   "metadata": {},
   "outputs": [
    {
     "data": {
      "text/html": [
       "<div>\n",
       "<style scoped>\n",
       "    .dataframe tbody tr th:only-of-type {\n",
       "        vertical-align: middle;\n",
       "    }\n",
       "\n",
       "    .dataframe tbody tr th {\n",
       "        vertical-align: top;\n",
       "    }\n",
       "\n",
       "    .dataframe thead th {\n",
       "        text-align: right;\n",
       "    }\n",
       "</style>\n",
       "<table border=\"1\" class=\"dataframe\">\n",
       "  <thead>\n",
       "    <tr style=\"text-align: right;\">\n",
       "      <th></th>\n",
       "      <th>id</th>\n",
       "      <th>target</th>\n",
       "    </tr>\n",
       "  </thead>\n",
       "  <tbody>\n",
       "    <tr>\n",
       "      <th>0</th>\n",
       "      <td>15970</td>\n",
       "      <td>0</td>\n",
       "    </tr>\n",
       "    <tr>\n",
       "      <th>1</th>\n",
       "      <td>59263</td>\n",
       "      <td>4</td>\n",
       "    </tr>\n",
       "    <tr>\n",
       "      <th>2</th>\n",
       "      <td>21379</td>\n",
       "      <td>3</td>\n",
       "    </tr>\n",
       "    <tr>\n",
       "      <th>3</th>\n",
       "      <td>1855</td>\n",
       "      <td>0</td>\n",
       "    </tr>\n",
       "    <tr>\n",
       "      <th>4</th>\n",
       "      <td>30805</td>\n",
       "      <td>0</td>\n",
       "    </tr>\n",
       "    <tr>\n",
       "      <th>...</th>\n",
       "      <td>...</td>\n",
       "      <td>...</td>\n",
       "    </tr>\n",
       "    <tr>\n",
       "      <th>35546</th>\n",
       "      <td>17036</td>\n",
       "      <td>1</td>\n",
       "    </tr>\n",
       "    <tr>\n",
       "      <th>35547</th>\n",
       "      <td>6461</td>\n",
       "      <td>11</td>\n",
       "    </tr>\n",
       "    <tr>\n",
       "      <th>35548</th>\n",
       "      <td>18842</td>\n",
       "      <td>0</td>\n",
       "    </tr>\n",
       "    <tr>\n",
       "      <th>35549</th>\n",
       "      <td>46694</td>\n",
       "      <td>8</td>\n",
       "    </tr>\n",
       "    <tr>\n",
       "      <th>35550</th>\n",
       "      <td>51623</td>\n",
       "      <td>4</td>\n",
       "    </tr>\n",
       "  </tbody>\n",
       "</table>\n",
       "<p>35551 rows × 2 columns</p>\n",
       "</div>"
      ],
      "text/plain": [
       "          id  target\n",
       "0      15970       0\n",
       "1      59263       4\n",
       "2      21379       3\n",
       "3       1855       0\n",
       "4      30805       0\n",
       "...      ...     ...\n",
       "35546  17036       1\n",
       "35547   6461      11\n",
       "35548  18842       0\n",
       "35549  46694       8\n",
       "35550  51623       4\n",
       "\n",
       "[35551 rows x 2 columns]"
      ]
     },
     "execution_count": 3,
     "metadata": {},
     "output_type": "execute_result"
    }
   ],
   "source": [
    "train = pd.read_csv(\"./Data/BoolArt/train.csv\")\n",
    "train"
   ]
  },
  {
   "cell_type": "code",
   "execution_count": 4,
   "id": "cb2b3ea3",
   "metadata": {},
   "outputs": [],
   "source": [
    "# ====================================================\n",
    "# Dataset \n",
    "# ====================================================\n",
    "class TrainDataset(Dataset):\n",
    "    def __init__(self,df,transform=None):\n",
    "        self.df = df\n",
    "        self.file_names = df['id'].values # 获取图片文件名\n",
    "        self.labels = df['target'].values # 获取训练集图片target值\n",
    "        self.transform = transform\n",
    "        \n",
    "    def __len__(self):  # len(train_dataset) 调用\n",
    "        return len(self.df)\n",
    "    \n",
    "    # 读取图片\n",
    "    def __getitem__(self,idx): # 这里的idx如何读取呢？---通过 [num] 正常传入序号\n",
    "        self.file_path = f'./Data/BoolArt/train_image/{self.file_names[idx]}.jpg' # 读取图片地址\n",
    "        image = np.array(Image.open(self.file_path).convert(\"RGB\"))\n",
    "        \n",
    "        \n",
    "        if self.transform:\n",
    "            image = self.transform(image=image)['image']\n",
    "        else:\n",
    "            image = cv2.resize(image,(CFG.size_h,CFG.size_w)) # 和原码不一样\n",
    "#             image = image[np.newaxis,:,:] # 添加一个新的轴\n",
    "            image = torch.from_numpy(image).float() #  ndarray -> pytorch\n",
    "            \n",
    "        label = torch.tensor(self.labels[idx]).long() # tensor\n",
    "        \n",
    "        return image/255, label"
   ]
  },
  {
   "cell_type": "code",
   "execution_count": 5,
   "id": "6e955eb4",
   "metadata": {},
   "outputs": [],
   "source": [
    "train_dataset = TrainDataset(train)\n"
   ]
  },
  {
   "cell_type": "code",
   "execution_count": 6,
   "id": "14bc57d4",
   "metadata": {},
   "outputs": [
    {
     "data": {
      "text/plain": [
       "array([15970, 59263, 21379, ..., 18842, 46694, 51623], dtype=int64)"
      ]
     },
     "execution_count": 6,
     "metadata": {},
     "output_type": "execute_result"
    }
   ],
   "source": [
    "train_dataset.file_names"
   ]
  },
  {
   "cell_type": "code",
   "execution_count": 7,
   "id": "2fe1e8b2",
   "metadata": {},
   "outputs": [
    {
     "data": {
      "text/plain": [
       "array([0, 4, 3, ..., 0, 8, 4], dtype=int64)"
      ]
     },
     "execution_count": 7,
     "metadata": {},
     "output_type": "execute_result"
    }
   ],
   "source": [
    "train_dataset.labels"
   ]
  },
  {
   "cell_type": "code",
   "execution_count": 8,
   "id": "0cf3cd77",
   "metadata": {},
   "outputs": [
    {
     "data": {
      "text/plain": [
       "35551"
      ]
     },
     "execution_count": 8,
     "metadata": {},
     "output_type": "execute_result"
    }
   ],
   "source": [
    "len(train_dataset)"
   ]
  },
  {
   "cell_type": "code",
   "execution_count": 9,
   "id": "3ea0ad41",
   "metadata": {},
   "outputs": [],
   "source": [
    "image,label = train_dataset[5] # 读取__getitem__返回的image/225,label"
   ]
  },
  {
   "cell_type": "code",
   "execution_count": 10,
   "id": "c665cbf4",
   "metadata": {},
   "outputs": [
    {
     "data": {
      "text/plain": [
       "<matplotlib.image.AxesImage at 0x21b2798c670>"
      ]
     },
     "execution_count": 10,
     "metadata": {},
     "output_type": "execute_result"
    },
    {
     "data": {
      "image/png": "[encoded data removed]",
      "text/plain": [
       "<Figure size 640x480 with 1 Axes>"
      ]
     },
     "metadata": {},
     "output_type": "display_data"
    }
   ],
   "source": [
    "plt.imshow(image.reshape(32,32,3))  # h,w,in_chans"
   ]
  },
  {
   "cell_type": "code",
   "execution_count": 11,
   "id": "bd99b24e",
   "metadata": {},
   "outputs": [
    {
     "data": {
      "text/plain": [
       "tensor(13)"
      ]
     },
     "execution_count": 11,
     "metadata": {},
     "output_type": "execute_result"
    }
   ],
   "source": [
    "label"
   ]
  },
  {
   "cell_type": "markdown",
   "id": "090cdf6c",
   "metadata": {},
   "source": [
    "## transform"
   ]
  },
  {
   "cell_type": "code",
   "execution_count": 12,
   "id": "d9341046",
   "metadata": {},
   "outputs": [],
   "source": [
    "def get_transform(*,data):\n",
    "    if data == 'train':\n",
    "        return A.Compose([\n",
    "            \n",
    "            A.Resize(CFG.size_w, CFG.size_h),\n",
    "            A.HorizontalFlip(p=0.5), # 水平翻转\n",
    "            A.VerticalFlip(p=0.5),   # 垂直翻转\n",
    "#             A.RandomBrightnessContrast(p=0.2), \n",
    "            ToTensorV2()  # 把数据转化为Pytorch格式\n",
    "        ])\n",
    "    elif data == 'valid':\n",
    "        return A.Compose([\n",
    "            A.Resize(CFG.size_w, CFG.size_h),\n",
    "            ToTensorV2()  # 把数据转化为Pytorch格式\n",
    "        ])"
   ]
  },
  {
   "cell_type": "markdown",
   "id": "a065f79b",
   "metadata": {},
   "source": [
    "## 数据集定义\n",
    "- 全部训练集\n",
    "- 划分出来的用于训练的训练集\n",
    "- 划分出来用于验证的验证集"
   ]
  },
  {
   "cell_type": "code",
   "execution_count": 13,
   "id": "abbaf39b",
   "metadata": {},
   "outputs": [],
   "source": [
    "full_train_ds = TrainDataset(train)\n",
    "train_ds = TrainDataset(train[:28440],transform=get_transform(data='train'))\n",
    "valid_ds   = TrainDataset(train[28440:],transform=get_transform(data='valid'))\n",
    "\n",
    "train_loader = DataLoader(train_ds,batch_size=CFG.batch_size,pin_memory=True,drop_last=False)\n",
    "valid_loader = DataLoader(valid_ds,batch_size=CFG.batch_size*2,pin_memory=True,drop_last=False)"
   ]
  },
  {
   "cell_type": "code",
   "execution_count": 14,
   "id": "49957df0",
   "metadata": {},
   "outputs": [
    {
     "data": {
      "text/plain": [
       "<matplotlib.image.AxesImage at 0x21b27bbed90>"
      ]
     },
     "execution_count": 14,
     "metadata": {},
     "output_type": "execute_result"
    },
    {
     "data": {
      "image/png": "[encoded data removed]",
      "text/plain": [
       "<Figure size 640x480 with 1 Axes>"
      ]
     },
     "metadata": {},
     "output_type": "display_data"
    }
   ],
   "source": [
    "# 查看transform后的图片\n",
    "image,label = train_ds[5] \n",
    "plt.imshow(image.reshape(32,32,3))"
   ]
  },
  {
   "cell_type": "code",
   "execution_count": 15,
   "id": "e960ebc8",
   "metadata": {
    "code_folding": []
   },
   "outputs": [
    {
     "data": {
      "text/plain": [
       "array([<Axes: title={'center': '0'}>, <Axes: title={'center': '4'}>,\n",
       "       <Axes: title={'center': '3'}>, <Axes: title={'center': '0'}>,\n",
       "       <Axes: title={'center': '0'}>, <Axes: title={'center': '13'}>,\n",
       "       <Axes: title={'center': '4'}>, <Axes: title={'center': '1'}>,\n",
       "       <Axes: title={'center': '12'}>, <Axes: title={'center': '11'}>,\n",
       "       <Axes: title={'center': '11'}>, <Axes: title={'center': '0'}>,\n",
       "       <Axes: title={'center': '4'}>, <Axes: title={'center': '0'}>,\n",
       "       <Axes: title={'center': '5'}>, <Axes: title={'center': '2'}>],\n",
       "      dtype=object)"
      ]
     },
     "execution_count": 15,
     "metadata": {},
     "output_type": "execute_result"
    },
    {
     "data": {
      "image/png": "[encoded data removed]",
      "text/plain": [
       "<Figure size 600x600 with 16 Axes>"
      ]
     },
     "metadata": {},
     "output_type": "display_data"
    }
   ],
   "source": [
    "def show_images(imgs,num_rows,num_cols,titles=None,scale=1.5):\n",
    "    figsize = (num_cols*scale,num_rows*scale)\n",
    "    \n",
    "    # 创建一个包含 num_rows行，num_cols列 的子图， figsize是显示绘图窗口的大小\n",
    "    _,axes = plt.subplots(num_rows,num_cols,figsize=figsize)  # axes 轴\n",
    "    axes = axes.flatten()\n",
    "    \n",
    "    for i, (ax,img) in enumerate(zip(axes,imgs)): # ax-一张图的轴 img-一张图的数据值\n",
    "        if torch.is_tensor(img):\n",
    "            # 图片张量\n",
    "            img = img.permute(1,2,0).numpy()*255\n",
    "            ax.imshow(img.astype(np.uint8))\n",
    "        else:                \n",
    "            # PIL图片--这个数据集\n",
    "            ax.imshow(img) # 把img画在ax底图上\n",
    "        ax.axes.get_xaxis().set_visible(False) # set_visible(False) 隐藏坐标轴\n",
    "        ax.axes.get_yaxis().set_visible(False)\n",
    "        ax.set_title(y[i].item()) # 迭代y 在一个batch_size中\n",
    "    return axes\n",
    "\n",
    "X, y = next(iter(train_loader))  # X 为一个batch_size的图片的array， y为label\n",
    "show_images(X, 4, 4, y) # 显示一个batch_size,且返回值为axes的值，也就是下面这些图片"
   ]
  },
  {
   "cell_type": "markdown",
   "id": "e04a1065",
   "metadata": {},
   "source": [
    "# Model"
   ]
  },
  {
   "cell_type": "code",
   "execution_count": 16,
   "id": "6f97407c",
   "metadata": {},
   "outputs": [],
   "source": [
    "class CustomModel(nn.Module):\n",
    "    def __init__(self, cfg, pretrained=False):\n",
    "        super().__init__()\n",
    "        self.cfg = cfg\n",
    "        self.model = timm.create_model(self.cfg.model_name, pretrained=pretrained, in_chans=3)\n",
    "        #print(self.model)\n",
    "        \n",
    "        if 'efficientnet' in self.cfg.model_name:\n",
    "            self.n_features = self.model.classifier.in_features\n",
    "            self.model.global_pool = nn.Identity()\n",
    "            self.model.classifier = nn.Identity()\n",
    "            \n",
    "        elif 'resnet' in self.cfg.model_name:\n",
    "            self.n_features = self.model.fc.in_features\n",
    "            self.model.global_pool = nn.Identity()\n",
    "            self.model.fc = nn.Identity()\n",
    "            \n",
    "        self.pooling = nn.AdaptiveAvgPool2d(1)\n",
    "        self.classifier = nn.Sequential(\n",
    "                            #nn.Conv2d(self.n_features, self.n_features // 8, 1),\n",
    "                            #nn.LeakyReLU(),\n",
    "                            #nn.BatchNorm2d(self.n_features // 8),\n",
    "                            nn.Conv2d(self.n_features, 44, 1),\n",
    "                            #nn.Sigmoid()\n",
    "                        )\n",
    "\n",
    "    def forward(self, x):\n",
    "        bs = x.size(0) # 返回x的batch_size\n",
    "        features = self.model(x)\n",
    "        pool_feature = self.pooling(features)\n",
    "        output = self.classifier(pool_feature).view(bs, -1)\n",
    "        return output"
   ]
  },
  {
   "cell_type": "markdown",
   "id": "6556ddbd",
   "metadata": {},
   "source": [
    "## 定义训练和验证流程"
   ]
  },
  {
   "cell_type": "code",
   "execution_count": 17,
   "id": "f3015bb2",
   "metadata": {},
   "outputs": [],
   "source": [
    "# ====================================================\n",
    "# train,valid\n",
    "# ====================================================\n",
    "def train_fn(model,optimizer,train_loader,criterion,device):\n",
    "    \n",
    "    model.to(device)\n",
    "    model.train()\n",
    "    train_loss = []\n",
    "    \n",
    "    for step, (images, labels) in enumerate(train_loader):\n",
    "        images = images.to(device)\n",
    "        labels = labels.to(device)\n",
    "\n",
    "        \n",
    "        y_preds = model(images)\n",
    "        loss = criterion(y_preds,labels)\n",
    "        \n",
    "        optimizer.zero_grad() # 清零梯度\n",
    "        loss.backward() # 计算梯度\n",
    "        \n",
    "        optimizer.step() # 优化器更新 \n",
    "        \n",
    "        train_loss.append(loss.item())\n",
    "        \n",
    "    return np.mean(train_loss)\n",
    " \n",
    "def valid_fn(model,valid_loader,criterion,device):\n",
    "    model.to(device)\n",
    "    model.eval()\n",
    "    eval_loss = []\n",
    "    \n",
    "    for step, batch in enumerate(valid_loader):\n",
    "        \n",
    "        images = batch['image'].to(device)\n",
    "        labels = batch['label'].to(device)\n",
    "        output = model(images)\n",
    "        \n",
    "        loss = criterion(output,labels.long())\n",
    "        eval_loss.append(loss.item())\n",
    "        \n",
    "    return np.mean(eval_loss)\n",
    "    \n",
    "        \n",
    "        "
   ]
  },
  {
   "cell_type": "code",
   "execution_count": 18,
   "id": "874fb414",
   "metadata": {},
   "outputs": [],
   "source": [
    "criterion = nn.CrossEntropyLoss()\n",
    "model = CustomModel(CFG,pretrained=True)\n",
    "optimizer = Adam(model.parameters(), lr=CFG.lr)"
   ]
  },
  {
   "cell_type": "markdown",
   "id": "fa297558",
   "metadata": {},
   "source": [
    "### 训练"
   ]
  },
  {
   "cell_type": "code",
   "execution_count": 19,
   "id": "ea89d520",
   "metadata": {},
   "outputs": [],
   "source": [
    "for epoch in range(CFG.epochs):\n",
    "    train_loss = train_fn(model,optimizer,train_loader,criterion,CFG.device)\n",
    "    val_loss   = valid_fn(model,valid_loader,criterion,CFG.device)\n",
    "    print(f\"Epoch: {epoch+1},train loss: {train_loss:.4f},val loss: {val_loss:.4f}\")"
   ]
  },
  {
   "cell_type": "markdown",
   "id": "74848e8f",
   "metadata": {},
   "source": [
    "# 加载测试数据"
   ]
  },
  {
   "cell_type": "code",
   "execution_count": 20,
   "id": "b882dbd0",
   "metadata": {},
   "outputs": [],
   "source": [
    "test = './Data/BoolArt/test_image/'\n",
    "test_data = pd.read_csv('./Data/BoolArt/sample_submission.csv')"
   ]
  },
  {
   "cell_type": "code",
   "execution_count": 21,
   "id": "7f74931c",
   "metadata": {},
   "outputs": [
    {
     "data": {
      "text/html": [
       "<div>\n",
       "<style scoped>\n",
       "    .dataframe tbody tr th:only-of-type {\n",
       "        vertical-align: middle;\n",
       "    }\n",
       "\n",
       "    .dataframe tbody tr th {\n",
       "        vertical-align: top;\n",
       "    }\n",
       "\n",
       "    .dataframe thead th {\n",
       "        text-align: right;\n",
       "    }\n",
       "</style>\n",
       "<table border=\"1\" class=\"dataframe\">\n",
       "  <thead>\n",
       "    <tr style=\"text-align: right;\">\n",
       "      <th></th>\n",
       "      <th>id</th>\n",
       "      <th>predict</th>\n",
       "    </tr>\n",
       "  </thead>\n",
       "  <tbody>\n",
       "    <tr>\n",
       "      <th>0</th>\n",
       "      <td>39386</td>\n",
       "      <td>NaN</td>\n",
       "    </tr>\n",
       "    <tr>\n",
       "      <th>1</th>\n",
       "      <td>53759</td>\n",
       "      <td>NaN</td>\n",
       "    </tr>\n",
       "    <tr>\n",
       "      <th>2</th>\n",
       "      <td>26960</td>\n",
       "      <td>NaN</td>\n",
       "    </tr>\n",
       "    <tr>\n",
       "      <th>3</th>\n",
       "      <td>47957</td>\n",
       "      <td>NaN</td>\n",
       "    </tr>\n",
       "    <tr>\n",
       "      <th>4</th>\n",
       "      <td>13089</td>\n",
       "      <td>NaN</td>\n",
       "    </tr>\n",
       "    <tr>\n",
       "      <th>...</th>\n",
       "      <td>...</td>\n",
       "      <td>...</td>\n",
       "    </tr>\n",
       "    <tr>\n",
       "      <th>8884</th>\n",
       "      <td>6653</td>\n",
       "      <td>NaN</td>\n",
       "    </tr>\n",
       "    <tr>\n",
       "      <th>8885</th>\n",
       "      <td>14481</td>\n",
       "      <td>NaN</td>\n",
       "    </tr>\n",
       "    <tr>\n",
       "      <th>8886</th>\n",
       "      <td>30614</td>\n",
       "      <td>NaN</td>\n",
       "    </tr>\n",
       "    <tr>\n",
       "      <th>8887</th>\n",
       "      <td>55283</td>\n",
       "      <td>NaN</td>\n",
       "    </tr>\n",
       "    <tr>\n",
       "      <th>8888</th>\n",
       "      <td>42234</td>\n",
       "      <td>NaN</td>\n",
       "    </tr>\n",
       "  </tbody>\n",
       "</table>\n",
       "<p>8889 rows × 2 columns</p>\n",
       "</div>"
      ],
      "text/plain": [
       "         id  predict\n",
       "0     39386      NaN\n",
       "1     53759      NaN\n",
       "2     26960      NaN\n",
       "3     47957      NaN\n",
       "4     13089      NaN\n",
       "...     ...      ...\n",
       "8884   6653      NaN\n",
       "8885  14481      NaN\n",
       "8886  30614      NaN\n",
       "8887  55283      NaN\n",
       "8888  42234      NaN\n",
       "\n",
       "[8889 rows x 2 columns]"
      ]
     },
     "execution_count": 21,
     "metadata": {},
     "output_type": "execute_result"
    }
   ],
   "source": [
    "test_data"
   ]
  },
  {
   "cell_type": "code",
   "execution_count": 22,
   "id": "1eda7fe2",
   "metadata": {},
   "outputs": [],
   "source": [
    "class TestDataset(Dataset):\n",
    "    def __init__(self,df,transform=None):\n",
    "        self.df = df['id'].values\n",
    "        self.transform=transform\n",
    "     \n",
    "    def __len__(self):\n",
    "        return len(self.df)\n",
    "    \n",
    "    def __getitem__(self,idx):\n",
    "        self,file_path = test + f\"{self.df[idx]}.jpg\"\n",
    "        image = np.array(Image.open(self.file_path).convert(\"RGB\"))\n",
    "        \n",
    "        if self.transform:\n",
    "            image = self.transform(image=image)['image']\n",
    "        else:\n",
    "            image = image[np.newaxis,:,:]\n",
    "            image = torch.from_numpy(image).float()\n",
    "            \n",
    "        return image/255,self,df[idx]\n",
    "    "
   ]
  },
  {
   "cell_type": "markdown",
   "id": "d8e27062",
   "metadata": {},
   "source": [
    "### test_loader加载"
   ]
  },
  {
   "cell_type": "code",
   "execution_count": 23,
   "id": "aba15094",
   "metadata": {},
   "outputs": [],
   "source": [
    "test_dataset = TestDataset(test_data,transform=get_transform(data='valid'))\n",
    "test_loader  = DataLoader(test_dataset,batch_size=CFG.batch_size,shuffle=False,\n",
    "                          num_workers=CFG.num_workers)"
   ]
  },
  {
   "cell_type": "markdown",
   "id": "c8084b72",
   "metadata": {},
   "source": [
    "## 推理"
   ]
  },
  {
   "cell_type": "code",
   "execution_count": 29,
   "id": "3b4e4600",
   "metadata": {},
   "outputs": [],
   "source": [
    "def predict(model,model_path,test_loader,device):\n",
    "    \n",
    "    tk0 = tqdm(enumerate(test_loader), total=len(test_loader))\n",
    "    pre = []\n",
    "    image_id = []\n",
    "    model.load_state_dict(torch.load(model_path)['model'])\n",
    "    model.eval()\n",
    "    with torch.no_grad():\n",
    "        for i, (images, img_ids) in tk0:\n",
    "            image_id += list(img_ids.numpy())\n",
    "            images = images.to(device)\n",
    "            y_preds = F.softmax(model(images), dim=1)\n",
    "            _, predict_y = torch.max(y_preds, dim=1)\n",
    "            predict_y = np.array(predict_y).tolist()\n",
    "            pre += predict_y\n",
    "    return pre, image_id"
   ]
  },
  {
   "cell_type": "code",
   "execution_count": 31,
   "id": "a17c361f",
   "metadata": {},
   "outputs": [
    {
     "data": {
      "application/vnd.jupyter.widget-view+json": {
       "model_id": "4f37fd588db74c24b3f822aa02065c00",
       "version_major": 2,
       "version_minor": 0
      },
      "text/plain": [
       "  0%|          | 0/556 [00:00<?, ?it/s]"
      ]
     },
     "metadata": {},
     "output_type": "display_data"
    },
    {
     "ename": "AttributeError",
     "evalue": "'list' object has no attribute 'seek'. You can only torch.load from a file that is seekable. Please pre-load the data into a buffer like io.BytesIO and try to load from it instead.",
     "output_type": "error",
     "traceback": [
      "\u001b[1;31m---------------------------------------------------------------------------\u001b[0m",
      "\u001b[1;31mAttributeError\u001b[0m                            Traceback (most recent call last)",
      "File \u001b[1;32mD:\\software\\miniconda\\lib\\site-packages\\torch\\serialization.py:531\u001b[0m, in \u001b[0;36m_check_seekable\u001b[1;34m(f)\u001b[0m\n\u001b[0;32m    530\u001b[0m \u001b[38;5;28;01mtry\u001b[39;00m:\n\u001b[1;32m--> 531\u001b[0m     \u001b[43mf\u001b[49m\u001b[38;5;241;43m.\u001b[39;49m\u001b[43mseek\u001b[49m(f\u001b[38;5;241m.\u001b[39mtell())\n\u001b[0;32m    532\u001b[0m     \u001b[38;5;28;01mreturn\u001b[39;00m \u001b[38;5;28;01mTrue\u001b[39;00m\n",
      "\u001b[1;31mAttributeError\u001b[0m: 'list' object has no attribute 'seek'",
      "\nDuring handling of the above exception, another exception occurred:\n",
      "\u001b[1;31mAttributeError\u001b[0m                            Traceback (most recent call last)",
      "Cell \u001b[1;32mIn[31], line 2\u001b[0m\n\u001b[0;32m      1\u001b[0m model_path \u001b[38;5;241m=\u001b[39m [\u001b[38;5;124m'\u001b[39m\u001b[38;5;124m./tf_efficientnet_b2_fold0_best_score.pth\u001b[39m\u001b[38;5;124m'\u001b[39m]\n\u001b[1;32m----> 2\u001b[0m predictions,img_id \u001b[38;5;241m=\u001b[39m \u001b[43mpredict\u001b[49m\u001b[43m(\u001b[49m\u001b[43mmodel\u001b[49m\u001b[43m,\u001b[49m\u001b[43m \u001b[49m\u001b[43mmodel_path\u001b[49m\u001b[43m,\u001b[49m\u001b[43m \u001b[49m\u001b[43mtest_loader\u001b[49m\u001b[43m,\u001b[49m\u001b[43m \u001b[49m\u001b[43mCFG\u001b[49m\u001b[38;5;241;43m.\u001b[39;49m\u001b[43mdevice\u001b[49m\u001b[43m)\u001b[49m\n",
      "Cell \u001b[1;32mIn[29], line 6\u001b[0m, in \u001b[0;36mpredict\u001b[1;34m(model, model_path, test_loader, device)\u001b[0m\n\u001b[0;32m      4\u001b[0m pre \u001b[38;5;241m=\u001b[39m []\n\u001b[0;32m      5\u001b[0m image_id \u001b[38;5;241m=\u001b[39m []\n\u001b[1;32m----> 6\u001b[0m model\u001b[38;5;241m.\u001b[39mload_state_dict(\u001b[43mtorch\u001b[49m\u001b[38;5;241;43m.\u001b[39;49m\u001b[43mload\u001b[49m\u001b[43m(\u001b[49m\u001b[43mmodel_path\u001b[49m\u001b[43m)\u001b[49m[\u001b[38;5;124m'\u001b[39m\u001b[38;5;124mmodel\u001b[39m\u001b[38;5;124m'\u001b[39m])\n\u001b[0;32m      7\u001b[0m model\u001b[38;5;241m.\u001b[39meval()\n\u001b[0;32m      8\u001b[0m \u001b[38;5;28;01mwith\u001b[39;00m torch\u001b[38;5;241m.\u001b[39mno_grad():\n",
      "File \u001b[1;32mD:\\software\\miniconda\\lib\\site-packages\\torch\\serialization.py:986\u001b[0m, in \u001b[0;36mload\u001b[1;34m(f, map_location, pickle_module, weights_only, mmap, **pickle_load_args)\u001b[0m\n\u001b[0;32m    983\u001b[0m \u001b[38;5;28;01mif\u001b[39;00m \u001b[38;5;124m'\u001b[39m\u001b[38;5;124mencoding\u001b[39m\u001b[38;5;124m'\u001b[39m \u001b[38;5;129;01mnot\u001b[39;00m \u001b[38;5;129;01min\u001b[39;00m pickle_load_args\u001b[38;5;241m.\u001b[39mkeys():\n\u001b[0;32m    984\u001b[0m     pickle_load_args[\u001b[38;5;124m'\u001b[39m\u001b[38;5;124mencoding\u001b[39m\u001b[38;5;124m'\u001b[39m] \u001b[38;5;241m=\u001b[39m \u001b[38;5;124m'\u001b[39m\u001b[38;5;124mutf-8\u001b[39m\u001b[38;5;124m'\u001b[39m\n\u001b[1;32m--> 986\u001b[0m \u001b[38;5;28;01mwith\u001b[39;00m \u001b[43m_open_file_like\u001b[49m\u001b[43m(\u001b[49m\u001b[43mf\u001b[49m\u001b[43m,\u001b[49m\u001b[43m \u001b[49m\u001b[38;5;124;43m'\u001b[39;49m\u001b[38;5;124;43mrb\u001b[39;49m\u001b[38;5;124;43m'\u001b[39;49m\u001b[43m)\u001b[49m \u001b[38;5;28;01mas\u001b[39;00m opened_file:\n\u001b[0;32m    987\u001b[0m     \u001b[38;5;28;01mif\u001b[39;00m _is_zipfile(opened_file):\n\u001b[0;32m    988\u001b[0m         \u001b[38;5;66;03m# The zipfile reader is going to advance the current file position.\u001b[39;00m\n\u001b[0;32m    989\u001b[0m         \u001b[38;5;66;03m# If we want to actually tail call to torch.jit.load, we need to\u001b[39;00m\n\u001b[0;32m    990\u001b[0m         \u001b[38;5;66;03m# reset back to the original position.\u001b[39;00m\n\u001b[0;32m    991\u001b[0m         orig_position \u001b[38;5;241m=\u001b[39m opened_file\u001b[38;5;241m.\u001b[39mtell()\n",
      "File \u001b[1;32mD:\\software\\miniconda\\lib\\site-packages\\torch\\serialization.py:440\u001b[0m, in \u001b[0;36m_open_file_like\u001b[1;34m(name_or_buffer, mode)\u001b[0m\n\u001b[0;32m    438\u001b[0m     \u001b[38;5;28;01mreturn\u001b[39;00m _open_buffer_writer(name_or_buffer)\n\u001b[0;32m    439\u001b[0m \u001b[38;5;28;01melif\u001b[39;00m \u001b[38;5;124m'\u001b[39m\u001b[38;5;124mr\u001b[39m\u001b[38;5;124m'\u001b[39m \u001b[38;5;129;01min\u001b[39;00m mode:\n\u001b[1;32m--> 440\u001b[0m     \u001b[38;5;28;01mreturn\u001b[39;00m \u001b[43m_open_buffer_reader\u001b[49m\u001b[43m(\u001b[49m\u001b[43mname_or_buffer\u001b[49m\u001b[43m)\u001b[49m\n\u001b[0;32m    441\u001b[0m \u001b[38;5;28;01melse\u001b[39;00m:\n\u001b[0;32m    442\u001b[0m     \u001b[38;5;28;01mraise\u001b[39;00m \u001b[38;5;167;01mRuntimeError\u001b[39;00m(\u001b[38;5;124mf\u001b[39m\u001b[38;5;124m\"\u001b[39m\u001b[38;5;124mExpected \u001b[39m\u001b[38;5;124m'\u001b[39m\u001b[38;5;124mr\u001b[39m\u001b[38;5;124m'\u001b[39m\u001b[38;5;124m or \u001b[39m\u001b[38;5;124m'\u001b[39m\u001b[38;5;124mw\u001b[39m\u001b[38;5;124m'\u001b[39m\u001b[38;5;124m in mode but got \u001b[39m\u001b[38;5;132;01m{\u001b[39;00mmode\u001b[38;5;132;01m}\u001b[39;00m\u001b[38;5;124m\"\u001b[39m)\n",
      "File \u001b[1;32mD:\\software\\miniconda\\lib\\site-packages\\torch\\serialization.py:425\u001b[0m, in \u001b[0;36m_open_buffer_reader.__init__\u001b[1;34m(self, buffer)\u001b[0m\n\u001b[0;32m    423\u001b[0m \u001b[38;5;28;01mdef\u001b[39;00m \u001b[38;5;21m__init__\u001b[39m(\u001b[38;5;28mself\u001b[39m, buffer):\n\u001b[0;32m    424\u001b[0m     \u001b[38;5;28msuper\u001b[39m()\u001b[38;5;241m.\u001b[39m\u001b[38;5;21m__init__\u001b[39m(buffer)\n\u001b[1;32m--> 425\u001b[0m     \u001b[43m_check_seekable\u001b[49m\u001b[43m(\u001b[49m\u001b[43mbuffer\u001b[49m\u001b[43m)\u001b[49m\n",
      "File \u001b[1;32mD:\\software\\miniconda\\lib\\site-packages\\torch\\serialization.py:534\u001b[0m, in \u001b[0;36m_check_seekable\u001b[1;34m(f)\u001b[0m\n\u001b[0;32m    532\u001b[0m     \u001b[38;5;28;01mreturn\u001b[39;00m \u001b[38;5;28;01mTrue\u001b[39;00m\n\u001b[0;32m    533\u001b[0m \u001b[38;5;28;01mexcept\u001b[39;00m (io\u001b[38;5;241m.\u001b[39mUnsupportedOperation, \u001b[38;5;167;01mAttributeError\u001b[39;00m) \u001b[38;5;28;01mas\u001b[39;00m e:\n\u001b[1;32m--> 534\u001b[0m     \u001b[43mraise_err_msg\u001b[49m\u001b[43m(\u001b[49m\u001b[43m[\u001b[49m\u001b[38;5;124;43m\"\u001b[39;49m\u001b[38;5;124;43mseek\u001b[39;49m\u001b[38;5;124;43m\"\u001b[39;49m\u001b[43m,\u001b[49m\u001b[43m \u001b[49m\u001b[38;5;124;43m\"\u001b[39;49m\u001b[38;5;124;43mtell\u001b[39;49m\u001b[38;5;124;43m\"\u001b[39;49m\u001b[43m]\u001b[49m\u001b[43m,\u001b[49m\u001b[43m \u001b[49m\u001b[43me\u001b[49m\u001b[43m)\u001b[49m\n\u001b[0;32m    535\u001b[0m \u001b[38;5;28;01mreturn\u001b[39;00m \u001b[38;5;28;01mFalse\u001b[39;00m\n",
      "File \u001b[1;32mD:\\software\\miniconda\\lib\\site-packages\\torch\\serialization.py:527\u001b[0m, in \u001b[0;36m_check_seekable.<locals>.raise_err_msg\u001b[1;34m(patterns, e)\u001b[0m\n\u001b[0;32m    523\u001b[0m     \u001b[38;5;28;01mif\u001b[39;00m p \u001b[38;5;129;01min\u001b[39;00m \u001b[38;5;28mstr\u001b[39m(e):\n\u001b[0;32m    524\u001b[0m         msg \u001b[38;5;241m=\u001b[39m (\u001b[38;5;28mstr\u001b[39m(e) \u001b[38;5;241m+\u001b[39m \u001b[38;5;124m\"\u001b[39m\u001b[38;5;124m. You can only torch.load from a file that is seekable.\u001b[39m\u001b[38;5;124m\"\u001b[39m\n\u001b[0;32m    525\u001b[0m                         \u001b[38;5;241m+\u001b[39m \u001b[38;5;124m\"\u001b[39m\u001b[38;5;124m Please pre-load the data into a buffer like io.BytesIO and\u001b[39m\u001b[38;5;124m\"\u001b[39m\n\u001b[0;32m    526\u001b[0m                         \u001b[38;5;241m+\u001b[39m \u001b[38;5;124m\"\u001b[39m\u001b[38;5;124m try to load from it instead.\u001b[39m\u001b[38;5;124m\"\u001b[39m)\n\u001b[1;32m--> 527\u001b[0m         \u001b[38;5;28;01mraise\u001b[39;00m \u001b[38;5;28mtype\u001b[39m(e)(msg)\n\u001b[0;32m    528\u001b[0m \u001b[38;5;28;01mraise\u001b[39;00m e\n",
      "\u001b[1;31mAttributeError\u001b[0m: 'list' object has no attribute 'seek'. You can only torch.load from a file that is seekable. Please pre-load the data into a buffer like io.BytesIO and try to load from it instead."
     ]
    }
   ],
   "source": [
    "model_path = ['./tf_efficientnet_b2_fold0_best_score.pth']\n",
    "predictions,img_id = predict(model, model_path, test_loader, CFG.device)"
   ]
  },
  {
   "cell_type": "markdown",
   "id": "9aff023f",
   "metadata": {},
   "source": [
    "# Submission"
   ]
  },
  {
   "cell_type": "code",
   "execution_count": null,
   "id": "4cccdbaf",
   "metadata": {},
   "outputs": [],
   "source": [
    "df = pd.DataFrame({\n",
    "    \"id\":img_id,\n",
    "    \"predict\":predictions\n",
    "})\n",
    "df.to_csv(\"./submission.csv\",index=False)\n",
    "df"
   ]
  }
 ],
 "metadata": {
  "kernelspec": {
   "display_name": "Python 3 (ipykernel)",
   "language": "python",
   "name": "python3"
  },
  "language_info": {
   "codemirror_mode": {
    "name": "ipython",
    "version": 3
   },
   "file_extension": ".py",
   "mimetype": "text/x-python",
   "name": "python",
   "nbconvert_exporter": "python",
   "pygments_lexer": "ipython3",
   "version": "3.9.17"
  },
  "nbTranslate": {
   "displayLangs": [
    "*"
   ],
   "hotkey": "alt-t",
   "langInMainMenu": true,
   "sourceLang": "en",
   "targetLang": "fr",
   "useGoogleTranslate": true
  },
  "toc": {
   "base_numbering": 1,
   "nav_menu": {},
   "number_sections": true,
   "sideBar": true,
   "skip_h1_title": false,
   "title_cell": "Table of Contents",
   "title_sidebar": "Contents",
   "toc_cell": false,
   "toc_position": {
    "height": "calc(100% - 180px)",
    "left": "10px",
    "top": "150px",
    "width": "164px"
   },
   "toc_section_display": true,
   "toc_window_display": false
  },
  "varInspector": {
   "cols": {
    "lenName": 16,
    "lenType": 16,
    "lenVar": 40
   },
   "kernels_config": {
    "python": {
     "delete_cmd_postfix": "",
     "delete_cmd_prefix": "del ",
     "library": "var_list.py",
     "varRefreshCmd": "print(var_dic_list())"
    },
    "r": {
     "delete_cmd_postfix": ") ",
     "delete_cmd_prefix": "rm(",
     "library": "var_list.r",
     "varRefreshCmd": "cat(var_dic_list()) "
    }
   },
   "types_to_exclude": [
    "module",
    "function",
    "builtin_function_or_method",
    "instance",
    "_Feature"
   ],
   "window_display": false
  }
 },
 "nbformat": 4,
 "nbformat_minor": 5
}
