{
 "cells": [
  {
   "cell_type": "markdown",
   "id": "d56bfde3",
   "metadata": {},
   "source": [
    "# 导入相应库"
   ]
  },
  {
   "cell_type": "code",
   "execution_count": 1,
   "id": "ab16562f",
   "metadata": {},
   "outputs": [],
   "source": [
    "import os\n",
    "import sys\n",
    "\n",
    "import cv2\n",
    "import numpy as np\n",
    "import pandas as pd \n",
    "from PIL import Image\n",
    "from matplotlib import pyplot as plt\n",
    "import seaborn as sns\n",
    "import time\n",
    "import random\n",
    "import shutil \n",
    "\n",
    "import scipy as sp\n",
    "from sklearn.model_selection import StratifiedKFold,GroupKFold,KFold # 交叉验证\n",
    "from tqdm.auto import tqdm\n",
    "\n",
    "import torch\n",
    "import torch.nn as nn\n",
    "import torch.nn.functional as F\n",
    "from torch.optim import Adam,SGD,AdamW\n",
    "\n",
    "import torchvision.models as models \n",
    "from torch.utils.data import DataLoader, Dataset\n",
    "from torch.optim.lr_scheduler import CosineAnnealingWarmRestarts, CosineAnnealingLR, ReduceLROnPlateau\n",
    "import albumentations as A\n",
    "from albumentations.pytorch import ToTensorV2\n",
    "import timm\n",
    "\n",
    "#import loss_func\n",
    "from torch.cuda.amp import autocast, GradScaler\n",
    "import warnings\n",
    "warnings.filterwarnings('ignore')"
   ]
  },
  {
   "cell_type": "markdown",
   "id": "a049cadf",
   "metadata": {},
   "source": [
    "# 基本配置"
   ]
  },
  {
   "cell_type": "code",
   "execution_count": 2,
   "id": "ab210491",
   "metadata": {},
   "outputs": [],
   "source": [
    "class CFG:\n",
    "\n",
    "    apex = True\n",
    "    debug = False\n",
    "    print_freq = 200\n",
    "    num_workers = 2\n",
    "    model_name = 'tf_efficientnet_b2'\n",
    "    size_w = 224\n",
    "    size_h = 224  #819\n",
    "    scheduler = 'CosineAnnealingLR'  # ['ReduceLROnPlateau', 'CosineAnnealingLR', 'CosineAnnealingWarmRestarts']\n",
    "    epochs = 5\n",
    "    # factor=0.2 # ReduceLROnPlateau\n",
    "    # patience=4 # ReduceLROnPlateau\n",
    "    # eps=1e-6 # ReduceLROnPlateau\n",
    "    T_max = 5  # CosineAnnealingLR8\n",
    "    T_0=5   # CosineAnnealingWarmRestarts\n",
    "    lr = 3e-4\n",
    "    min_lr = 1e-6\n",
    "    batch_size = 64\n",
    "    weight_decay = 1e-6\n",
    "    gradient_accumulation_steps = 1\n",
    "    max_grad_norm = 1000\n",
    "    seed = 42\n",
    "    target_col = 'target'\n",
    "    n_fold = 5\n",
    "    trn_fold = [0,1,2,3,4]\n",
    "    train = True"
   ]
  },
  {
   "cell_type": "markdown",
   "id": "f1950352",
   "metadata": {},
   "source": []
  },
  {
   "cell_type": "code",
   "execution_count": 3,
   "id": "1d425123",
   "metadata": {},
   "outputs": [],
   "source": [
    "train = pd.read_csv(\"./Data/BoolArt/train.csv\")\n",
    "device = torch.device('cuda' if torch.cuda.is_available() else 'cpu')\n",
    "OUTPUT_DIR = './'\n",
    "if not os.path.exists(OUTPUT_DIR):\n",
    "    os.makedirs(OUTPUT_DIR)\n",
    "    \n",
    "if CFG.debug:\n",
    "    CFG.epochs = 3\n",
    "    train = train.sample(n=1000, random_state=CFG.seed).reset_index(drop=True)\n",
    "\n",
    "def seed_torch(seed=42):\n",
    "    random.seed(seed)\n",
    "    os.environ['PYTHONHASHSEED'] = str(seed)\n",
    "    np.random.seed(seed)\n",
    "    torch.manual_seed(seed)\n",
    "    torch.cuda.manual_seed(seed)\n",
    "    torch.backends.cudnn.deterministic = True\n",
    "    \n",
    "seed_torch(seed=CFG.seed)\n"
   ]
  },
  {
   "cell_type": "markdown",
   "id": "8acf6f74",
   "metadata": {},
   "source": [
    "### 四则交叉验证"
   ]
  },
  {
   "cell_type": "code",
   "execution_count": 4,
   "id": "efd95fe8",
   "metadata": {},
   "outputs": [],
   "source": [
    "Fold = StratifiedKFold(n_splits=CFG.n_fold, shuffle=True, random_state=CFG.seed)\n",
    "#labellll = np.array(train[CFG.target_col]).astype(np.int)\n",
    "for n, (train_index, val_index) in enumerate(Fold.split(\n",
    "                                                train, np.array(train[CFG.target_col]))):\n",
    "    train.loc[val_index, 'fold'] = int(n)\n",
    "train['fold'] = train['fold'].astype(int)"
   ]
  },
  {
   "cell_type": "markdown",
   "id": "0e435d90",
   "metadata": {},
   "source": [
    "#### 查看数据集"
   ]
  },
  {
   "cell_type": "code",
   "execution_count": 9,
   "id": "61ccd07b",
   "metadata": {},
   "outputs": [
    {
     "data": {
      "text/html": [
       "<div>\n",
       "<style scoped>\n",
       "    .dataframe tbody tr th:only-of-type {\n",
       "        vertical-align: middle;\n",
       "    }\n",
       "\n",
       "    .dataframe tbody tr th {\n",
       "        vertical-align: top;\n",
       "    }\n",
       "\n",
       "    .dataframe thead th {\n",
       "        text-align: right;\n",
       "    }\n",
       "</style>\n",
       "<table border=\"1\" class=\"dataframe\">\n",
       "  <thead>\n",
       "    <tr style=\"text-align: right;\">\n",
       "      <th></th>\n",
       "      <th>id</th>\n",
       "      <th>target</th>\n",
       "      <th>fold</th>\n",
       "    </tr>\n",
       "  </thead>\n",
       "  <tbody>\n",
       "    <tr>\n",
       "      <th>0</th>\n",
       "      <td>15970</td>\n",
       "      <td>0</td>\n",
       "      <td>0</td>\n",
       "    </tr>\n",
       "    <tr>\n",
       "      <th>1</th>\n",
       "      <td>59263</td>\n",
       "      <td>4</td>\n",
       "      <td>3</td>\n",
       "    </tr>\n",
       "    <tr>\n",
       "      <th>2</th>\n",
       "      <td>21379</td>\n",
       "      <td>3</td>\n",
       "      <td>4</td>\n",
       "    </tr>\n",
       "    <tr>\n",
       "      <th>3</th>\n",
       "      <td>1855</td>\n",
       "      <td>0</td>\n",
       "      <td>4</td>\n",
       "    </tr>\n",
       "    <tr>\n",
       "      <th>4</th>\n",
       "      <td>30805</td>\n",
       "      <td>0</td>\n",
       "      <td>2</td>\n",
       "    </tr>\n",
       "    <tr>\n",
       "      <th>...</th>\n",
       "      <td>...</td>\n",
       "      <td>...</td>\n",
       "      <td>...</td>\n",
       "    </tr>\n",
       "    <tr>\n",
       "      <th>35546</th>\n",
       "      <td>17036</td>\n",
       "      <td>1</td>\n",
       "      <td>4</td>\n",
       "    </tr>\n",
       "    <tr>\n",
       "      <th>35547</th>\n",
       "      <td>6461</td>\n",
       "      <td>11</td>\n",
       "      <td>0</td>\n",
       "    </tr>\n",
       "    <tr>\n",
       "      <th>35548</th>\n",
       "      <td>18842</td>\n",
       "      <td>0</td>\n",
       "      <td>2</td>\n",
       "    </tr>\n",
       "    <tr>\n",
       "      <th>35549</th>\n",
       "      <td>46694</td>\n",
       "      <td>8</td>\n",
       "      <td>3</td>\n",
       "    </tr>\n",
       "    <tr>\n",
       "      <th>35550</th>\n",
       "      <td>51623</td>\n",
       "      <td>4</td>\n",
       "      <td>3</td>\n",
       "    </tr>\n",
       "  </tbody>\n",
       "</table>\n",
       "<p>35551 rows × 3 columns</p>\n",
       "</div>"
      ],
      "text/plain": [
       "          id  target  fold\n",
       "0      15970       0     0\n",
       "1      59263       4     3\n",
       "2      21379       3     4\n",
       "3       1855       0     4\n",
       "4      30805       0     2\n",
       "...      ...     ...   ...\n",
       "35546  17036       1     4\n",
       "35547   6461      11     0\n",
       "35548  18842       0     2\n",
       "35549  46694       8     3\n",
       "35550  51623       4     3\n",
       "\n",
       "[35551 rows x 3 columns]"
      ]
     },
     "execution_count": 9,
     "metadata": {},
     "output_type": "execute_result"
    }
   ],
   "source": [
    "train"
   ]
  },
  {
   "cell_type": "code",
   "execution_count": 14,
   "id": "1f2e6d69",
   "metadata": {},
   "outputs": [
    {
     "data": {
      "text/plain": [
       "0        15970\n",
       "1        59263\n",
       "2        21379\n",
       "3         1855\n",
       "4        30805\n",
       "         ...  \n",
       "35546    17036\n",
       "35547     6461\n",
       "35548    18842\n",
       "35549    46694\n",
       "35550    51623\n",
       "Name: id, Length: 35551, dtype: int64"
      ]
     },
     "execution_count": 14,
     "metadata": {},
     "output_type": "execute_result"
    }
   ],
   "source": [
    "train['id']"
   ]
  },
  {
   "cell_type": "markdown",
   "id": "ed079005",
   "metadata": {},
   "source": [
    "### 加载训练和验证数据"
   ]
  },
  {
   "cell_type": "code",
   "execution_count": 10,
   "id": "5309a1d3",
   "metadata": {},
   "outputs": [],
   "source": [
    "# ====================================================\n",
    "# Dataset \n",
    "# ====================================================\n",
    "class TrainDataset(Dataset):\n",
    "    def __init__(self,df,transform=None):\n",
    "        self.df = df\n",
    "        self.file_names = df['id'].values\n",
    "        self.labels = df[CFG.target_col].values\n",
    "        self.transform = transform\n",
    "        \n",
    "    def __len__(self):\n",
    "        return len(self.df)\n",
    "    \n",
    "    # 读取图片\n",
    "    def __getitem__(self,idx): # 这里的idx如何读取呢？\n",
    "        self.file_path = f'./Data/BoolArt/train_image/{self.file_names[idx]}.jpg' # 读取图片地址\n",
    "        image = np.narray(Image.open(self.file_path).convert(\"RGB\"))\n",
    "        if self.transform:\n",
    "            image = self.transform(image=image)['image']\n",
    "        else:\n",
    "            image = cv2.resize(image,(CFG.size_h,CFG.size_w)) # 和原码不一样\n",
    "            image = image[np.newaxis,:,:]\n",
    "            image = torch.form_numpy(image).float()\n",
    "        \n",
    "            "
   ]
  },
  {
   "cell_type": "code",
   "execution_count": 15,
   "id": "6d8ec1ce",
   "metadata": {},
   "outputs": [],
   "source": [
    "traindataset = TrainDataset(train)"
   ]
  },
  {
   "cell_type": "code",
   "execution_count": 17,
   "id": "d50163ea",
   "metadata": {},
   "outputs": [],
   "source": [
    "file_names = train['id'].values"
   ]
  },
  {
   "cell_type": "code",
   "execution_count": 18,
   "id": "0a029f57",
   "metadata": {},
   "outputs": [
    {
     "ename": "NameError",
     "evalue": "name 'idx' is not defined",
     "output_type": "error",
     "traceback": [
      "\u001b[1;31m---------------------------------------------------------------------------\u001b[0m",
      "\u001b[1;31mNameError\u001b[0m                                 Traceback (most recent call last)",
      "Input \u001b[1;32mIn [18]\u001b[0m, in \u001b[0;36m<cell line: 1>\u001b[1;34m()\u001b[0m\n\u001b[1;32m----> 1\u001b[0m file_path \u001b[38;5;241m=\u001b[39m \u001b[38;5;124mf\u001b[39m\u001b[38;5;124m'\u001b[39m\u001b[38;5;124m../input/boolart-image-classification/train_image/\u001b[39m\u001b[38;5;132;01m{\u001b[39;00mfile_names[idx]\u001b[38;5;132;01m}\u001b[39;00m\u001b[38;5;124m.jpg\u001b[39m\u001b[38;5;124m'\u001b[39m\n",
      "\u001b[1;31mNameError\u001b[0m: name 'idx' is not defined"
     ]
    }
   ],
   "source": [
    "file_path = f'../input/boolart-image-classification/train_image/{file_names[idx]}.jpg'"
   ]
  },
  {
   "cell_type": "code",
   "execution_count": null,
   "id": "089c22d0",
   "metadata": {},
   "outputs": [],
   "source": []
  }
 ],
 "metadata": {
  "kernelspec": {
   "display_name": "Python 3 (ipykernel)",
   "language": "python",
   "name": "python3"
  },
  "language_info": {
   "codemirror_mode": {
    "name": "ipython",
    "version": 3
   },
   "file_extension": ".py",
   "mimetype": "text/x-python",
   "name": "python",
   "nbconvert_exporter": "python",
   "pygments_lexer": "ipython3",
   "version": "3.9.12"
  },
  "nbTranslate": {
   "displayLangs": [
    "*"
   ],
   "hotkey": "alt-t",
   "langInMainMenu": true,
   "sourceLang": "en",
   "targetLang": "fr",
   "useGoogleTranslate": true
  },
  "toc": {
   "base_numbering": 1,
   "nav_menu": {},
   "number_sections": true,
   "sideBar": true,
   "skip_h1_title": false,
   "title_cell": "Table of Contents",
   "title_sidebar": "Contents",
   "toc_cell": false,
   "toc_position": {},
   "toc_section_display": true,
   "toc_window_display": false
  },
  "varInspector": {
   "cols": {
    "lenName": 16,
    "lenType": 16,
    "lenVar": 40
   },
   "kernels_config": {
    "python": {
     "delete_cmd_postfix": "",
     "delete_cmd_prefix": "del ",
     "library": "var_list.py",
     "varRefreshCmd": "print(var_dic_list())"
    },
    "r": {
     "delete_cmd_postfix": ") ",
     "delete_cmd_prefix": "rm(",
     "library": "var_list.r",
     "varRefreshCmd": "cat(var_dic_list()) "
    }
   },
   "types_to_exclude": [
    "module",
    "function",
    "builtin_function_or_method",
    "instance",
    "_Feature"
   ],
   "window_display": false
  }
 },
 "nbformat": 4,
 "nbformat_minor": 5
}
